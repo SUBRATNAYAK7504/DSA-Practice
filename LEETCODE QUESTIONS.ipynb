{
 "cells": [
  {
   "cell_type": "markdown",
   "id": "376865b5",
   "metadata": {},
   "source": [
    "# Contains Duplicate "
   ]
  },
  {
   "cell_type": "code",
   "execution_count": 48,
   "id": "ef222d45",
   "metadata": {},
   "outputs": [
    {
     "name": "stdout",
     "output_type": "stream",
     "text": [
      "Checking has started...\n",
      "True\n"
     ]
    }
   ],
   "source": [
    "\n",
    "class Check():\n",
    "    \n",
    "    def __init__(self, in_list):\n",
    "        print(\"Checking has started...\")\n",
    "        \n",
    "        self.in_list = in_list\n",
    "        self.contains_duplicate()\n",
    "    \n",
    "    def contains_duplicate(self):\n",
    "        print(True) if len(self.in_list)>len(set(self.in_list)) else print(False)         \n",
    "\n",
    "input_list = [2,3,4,4,4,5,5,6]\n",
    "\n",
    "c = Check(input_list)\n"
   ]
  },
  {
   "cell_type": "markdown",
   "id": "9ba02af9",
   "metadata": {},
   "source": [
    "# Anagram"
   ]
  },
  {
   "cell_type": "code",
   "execution_count": 54,
   "id": "74cfef2f",
   "metadata": {},
   "outputs": [
    {
     "name": "stdout",
     "output_type": "stream",
     "text": [
      "False\n"
     ]
    }
   ],
   "source": [
    "def check_anagram(word1, word2):\n",
    "    print(True) if sorted(word1) == sorted(word2) else print(False)\n",
    "\n",
    "check_anagram(\"cat\", \"tac\")    "
   ]
  },
  {
   "cell_type": "markdown",
   "id": "faf51bf6",
   "metadata": {},
   "source": [
    "# Target Sum by adding two values"
   ]
  },
  {
   "cell_type": "code",
   "execution_count": 64,
   "id": "e4d994c3",
   "metadata": {},
   "outputs": [
    {
     "data": {
      "text/plain": [
       "[[1, 2], [4, 5]]"
      ]
     },
     "execution_count": 64,
     "metadata": {},
     "output_type": "execute_result"
    }
   ],
   "source": [
    "#one liner with two for loop\n",
    "def target_sum(input_list, target):\n",
    "    return [[i, j] for i in range(len(input_list)) for j in range(i+1, len(input_list)) if input_list[i]+input_list[j] == target]\n",
    "    \n",
    "input_list = [1,4,6,7,8,2]\n",
    "target = 10\n",
    "\n",
    "target_sum(input_list, target)"
   ]
  },
  {
   "cell_type": "code",
   "execution_count": 67,
   "id": "5f5674e6",
   "metadata": {},
   "outputs": [
    {
     "data": {
      "text/plain": [
       "[[1, 2], [4, 5]]"
      ]
     },
     "execution_count": 67,
     "metadata": {},
     "output_type": "execute_result"
    }
   ],
   "source": [
    "#using one for loop\n",
    "def target_sum(input_list, target):\n",
    "    \n",
    "    compliment_dict = {}\n",
    "    output_list = []\n",
    "    \n",
    "    for i, val in enumerate(input_list):\n",
    "        \n",
    "        remaining = target - val\n",
    "        \n",
    "        if remaining in compliment_dict:\n",
    "            \n",
    "            output_list.append([compliment_dict[remaining], i])\n",
    "        \n",
    "        compliment_dict[val] = i\n",
    "    \n",
    "    return output_list  \n",
    "\n",
    "input_list = [1,4,6,7,8,2]\n",
    "target = 10\n",
    "\n",
    "target_sum(input_list, target)"
   ]
  },
  {
   "cell_type": "markdown",
   "id": "cbe1d64f",
   "metadata": {},
   "source": [
    "# Group Anagram"
   ]
  },
  {
   "cell_type": "code",
   "execution_count": 77,
   "id": "fd6a9277",
   "metadata": {},
   "outputs": [
    {
     "name": "stdout",
     "output_type": "stream",
     "text": [
      "[['eat', 'tea', 'aet'], ['nat', 'tan'], ['bat']]\n"
     ]
    }
   ],
   "source": [
    "def group_anagram(word_list):\n",
    "    \n",
    "    out_dict = {}\n",
    "    \n",
    "    for w in word_list:\n",
    "        sorted_word = \"\".join(sorted(w))\n",
    "        \n",
    "        if  sorted_word in out_dict:\n",
    "            out_dict[sorted_word].append(w)\n",
    "        else:\n",
    "            out_dict[sorted_word] = [w]\n",
    "    \n",
    "    print(list(out_dict.values()))\n",
    "\n",
    "word_list = [\"eat\", \"tea\", \"aet\", \"nat\", \"tan\", \"bat\"]\n",
    "group_anagram(word_list)"
   ]
  },
  {
   "cell_type": "code",
   "execution_count": 71,
   "id": "9f46b18c",
   "metadata": {},
   "outputs": [
    {
     "name": "stdout",
     "output_type": "stream",
     "text": [
      "[['eat', 'tea', 'aet'], ['nat', 'tan'], ['bat']]\n"
     ]
    }
   ],
   "source": [
    "#using recursion\n",
    "def group_anagram(word_list, out_list = []):\n",
    "    \n",
    "    if len(word_list)==0:\n",
    "        print(out_list)\n",
    "        return\n",
    "    \n",
    "    check_word = word_list[0]\n",
    "    out_list.append([check_word])\n",
    "    \n",
    "    temp_word_list = []\n",
    "    \n",
    "    for i in range(1, len(word_list)):\n",
    "        if sorted(check_word) == sorted(word_list[i]):\n",
    "            out_list[-1].append(word_list[i])\n",
    "        else:\n",
    "            temp_word_list.append(word_list[i])\n",
    "    \n",
    "    group_anagram(temp_word_list, out_list)\n",
    "                  \n",
    "\n",
    "word_list = [\"eat\", \"tea\", \"aet\", \"nat\", \"tan\", \"bat\"]\n",
    "group_anagram(word_list)"
   ]
  },
  {
   "cell_type": "markdown",
   "id": "68a1e94f",
   "metadata": {},
   "source": [
    "# Top K frequent elements"
   ]
  },
  {
   "cell_type": "code",
   "execution_count": 10,
   "id": "318042e7",
   "metadata": {},
   "outputs": [
    {
     "data": {
      "text/plain": [
       "[6, 6]"
      ]
     },
     "execution_count": 10,
     "metadata": {},
     "output_type": "execute_result"
    }
   ],
   "source": [
    "def find_given_frequent_element(in_list, k):\n",
    "    \n",
    "    out_dict = {}\n",
    "    \n",
    "    for i in set(in_list):\n",
    "        out_dict[i] = in_list.count(i)\n",
    "    \n",
    "    out_list = []\n",
    "    \n",
    "    for j in range(k):\n",
    "        \n",
    "        max_val = 0\n",
    "        max_count = 0\n",
    "        \n",
    "        for key, val in out_dict.items():\n",
    "            if val>max_count:\n",
    "                max_val = key\n",
    "                max_count = val\n",
    "        \n",
    "        out_list.append(max_val)\n",
    "        del out_dict[max_val]\n",
    "    \n",
    "    \n",
    "    return out_list\n",
    "    \n",
    "    \n",
    "in_list = [6,6,7,7,8,9]    \n",
    "k = 2\n",
    "find_given_frequent_element(in_list, k)"
   ]
  },
  {
   "cell_type": "code",
   "execution_count": 17,
   "id": "3f7cf7ad",
   "metadata": {},
   "outputs": [
    {
     "data": {
      "text/plain": [
       "[9, 6]"
      ]
     },
     "execution_count": 17,
     "metadata": {},
     "output_type": "execute_result"
    }
   ],
   "source": [
    "def find_given_frequent_element(in_list, k):\n",
    "    \n",
    "    out_count = []\n",
    "    out_val = []\n",
    "    \n",
    "    for i in set(in_list):\n",
    "        out_val.append(i)\n",
    "        out_count.append(in_list.count(i))\n",
    "    \n",
    "    out_list = []\n",
    "    \n",
    "    for j in range(k):\n",
    "        index = out_count.index(max(out_count))\n",
    "        out_list.append(out_val[index])\n",
    "        \n",
    "        del out_count[index]\n",
    "        del out_val[index]\n",
    "    \n",
    "    return out_list\n",
    "    \n",
    "    \n",
    "in_list = [6,6,7,8,9,9,9]    \n",
    "k = 2\n",
    "find_given_frequent_element(in_list, k)"
   ]
  },
  {
   "cell_type": "markdown",
   "id": "7ad5f866",
   "metadata": {},
   "source": [
    "# product of array except self "
   ]
  },
  {
   "cell_type": "code",
   "execution_count": 20,
   "id": "b998b47f",
   "metadata": {},
   "outputs": [
    {
     "data": {
      "text/plain": [
       "[24, 12, 8, 6]"
      ]
     },
     "execution_count": 20,
     "metadata": {},
     "output_type": "execute_result"
    }
   ],
   "source": [
    "def multiply_except_value(lst):\n",
    "    n = len(lst)\n",
    "    product = 1\n",
    "    for i in range(n):\n",
    "        product *= lst[i]\n",
    "    \n",
    "    result = [product // lst[i] for i in range(n)]\n",
    "    return result\n",
    "multiply_except_value([1,2,3,4])"
   ]
  },
  {
   "cell_type": "markdown",
   "id": "a26bb12f",
   "metadata": {},
   "source": [
    "# Valid Sudoku\n"
   ]
  },
  {
   "cell_type": "code",
   "execution_count": 11,
   "id": "7c9d6081",
   "metadata": {},
   "outputs": [
    {
     "name": "stdout",
     "output_type": "stream",
     "text": [
      "False\n"
     ]
    }
   ],
   "source": [
    "def check_condition(in_list):\n",
    "    \n",
    "    if len(set(in_list)) != len(in_list):\n",
    "        return False\n",
    "    for i in in_list:\n",
    "        if i < 0 or i > 10:\n",
    "            return False\n",
    "    \n",
    "    return True\n",
    "    \n",
    "def sub_box_check(matrix):\n",
    "\n",
    "def valid_sudoku(matrix):\n",
    "    \n",
    "    \n",
    "    if not(sub_box_check()):\n",
    "        return False\n",
    "    \n",
    "    return True\n",
    "\n",
    "matrix = [[1,2,3],\n",
    "          [4,5,6],\n",
    "          [7,8,9]]\n",
    "\n",
    "valid_sudoku(matrix)"
   ]
  },
  {
   "cell_type": "markdown",
   "id": "f77a8045",
   "metadata": {},
   "source": [
    "# Longest sequence"
   ]
  },
  {
   "cell_type": "code",
   "execution_count": null,
   "id": "09c4fbda",
   "metadata": {},
   "outputs": [],
   "source": []
  },
  {
   "cell_type": "code",
   "execution_count": null,
   "id": "262a709d",
   "metadata": {},
   "outputs": [],
   "source": []
  },
  {
   "cell_type": "markdown",
   "id": "1646530b",
   "metadata": {},
   "source": [
    "# Palindrome using two pointer"
   ]
  },
  {
   "cell_type": "code",
   "execution_count": null,
   "id": "1568f608",
   "metadata": {},
   "outputs": [],
   "source": []
  },
  {
   "cell_type": "code",
   "execution_count": null,
   "id": "eae86bc7",
   "metadata": {},
   "outputs": [],
   "source": []
  },
  {
   "cell_type": "code",
   "execution_count": null,
   "id": "a1780087",
   "metadata": {},
   "outputs": [],
   "source": []
  },
  {
   "cell_type": "markdown",
   "id": "16699bd3",
   "metadata": {},
   "source": [
    "# Water Container"
   ]
  },
  {
   "cell_type": "code",
   "execution_count": 15,
   "id": "c6fddad9",
   "metadata": {},
   "outputs": [
    {
     "name": "stdout",
     "output_type": "stream",
     "text": [
      "[8, 7, 6, 5, 4, 3, 2, 1, 49, 18, 40, 16, 24, 16, 6, 1, 36, 15, 24, 12, 12, 6, 6, 2, 35, 12, 24, 8, 8, 6, 16, 3, 28, 9, 16, 4, 8, 12, 24, 4, 12, 6, 4, 4, 8, 12, 16, 5, 14, 3, 4, 16, 24, 24, 40, 6, 3, 3, 6, 9, 12, 15, 18, 7, 3, 14, 12, 28, 35, 36, 49, 8]\n"
     ]
    },
    {
     "data": {
      "text/plain": [
       "49"
      ]
     },
     "execution_count": 15,
     "metadata": {},
     "output_type": "execute_result"
    }
   ],
   "source": [
    "#bruteforce\n",
    "def max_possible_water_container(in_lst):\n",
    "    area_lst = []\n",
    "    \n",
    "    for i in range(0, len(in_lst)):\n",
    "        for j in range(len(in_lst)-1, -1, -1):\n",
    "            if i == j: continue\n",
    "            \n",
    "            area_lst.append(abs(j-i)*min(in_lst[i],in_lst[j]))\n",
    "    print(area_lst)\n",
    "    return max(area_lst)\n",
    "    \n",
    "    \n",
    "\n",
    "in_lst = [1, 8, 6, 2, 5, 4, 8, 3, 7]         \n",
    "max_possible_water_container(in_lst)\n",
    "\n"
   ]
  },
  {
   "cell_type": "code",
   "execution_count": 16,
   "id": "5ebf9d90",
   "metadata": {},
   "outputs": [
    {
     "name": "stdout",
     "output_type": "stream",
     "text": [
      "48\n"
     ]
    }
   ],
   "source": [
    "#optimized water container\n",
    "def max_water_hold(in_list):\n",
    "    max_area=0\n",
    "    i=0\n",
    "    j=len(in_list)-1\n",
    "    while i<j:\n",
    "        area=abs(i-j)*(min(in_list[i],in_list[j]))\n",
    "        if area>max_area:\n",
    "            max_area=area\n",
    "       \n",
    "        if in_list[i]<in_list[j]:\n",
    "            i+=1\n",
    "        else:\n",
    "            j-=1\n",
    "    print(max_area)\n",
    "    \n",
    "in_list=[1,8,12,2,5,4,8,9]\n",
    "max_water_hold(in_list)"
   ]
  },
  {
   "cell_type": "markdown",
   "id": "4355e324",
   "metadata": {},
   "source": [
    "# Rain water trapping"
   ]
  },
  {
   "cell_type": "code",
   "execution_count": null,
   "id": "5b2ce6e9",
   "metadata": {},
   "outputs": [],
   "source": [
    "def hold_rain_water(in_list):\n",
    "    for i in range(1, len(in_list)-1):\n",
    "        \n",
    "    \n",
    "\n",
    "in_list = [0, 1, 0, 2, 1, 0, 1, 3, 2, 1, 2, 1]   \n",
    "hold_rain_water(in_list)"
   ]
  },
  {
   "cell_type": "markdown",
   "id": "4173f0b2",
   "metadata": {},
   "source": [
    "# Linked List value adding by reverse"
   ]
  },
  {
   "cell_type": "code",
   "execution_count": 24,
   "id": "1e35a610",
   "metadata": {},
   "outputs": [
    {
     "name": "stdout",
     "output_type": "stream",
     "text": [
      "7\n",
      "0\n",
      "8\n"
     ]
    }
   ],
   "source": [
    "class ListNode:\n",
    "    def __init__(self, val = 0, next_link = None):\n",
    "        self.val = val\n",
    "        self.next_link = next_link\n",
    "    \n",
    "def add_linked_list(l1, l2):\n",
    "    carry = 0\n",
    "    dummy = ListNode()\n",
    "    current = dummy\n",
    "    \n",
    "    while l1 or l2 or carry:\n",
    "        val1 = l1.val\n",
    "        val2 = l2.val\n",
    "        \n",
    "        current_sum = val1 + val2 + carry\n",
    "        \n",
    "        carry = current_sum//10\n",
    "        \n",
    "        current.next_link = ListNode(current_sum % 10)\n",
    "        current = current.next_link\n",
    "        \n",
    "        if l1:\n",
    "            l1 = l1.next_link\n",
    "        if l2:\n",
    "            l2 = l2.next_link\n",
    "    \n",
    "    return dummy.next_link\n",
    "\n",
    "def print_linked_list_recursively(link_lst):\n",
    "    if link_lst.next_link == None:\n",
    "        print(link_lst.val)\n",
    "        return\n",
    "    print(link_lst.val)\n",
    "    print_linked_list_recursively(link_lst.next_link)\n",
    "        \n",
    "l1 = ListNode(2, ListNode(4, ListNode(3)))\n",
    "l2 = ListNode(5, ListNode(6, ListNode(4)))\n",
    "out = add_linked_list(l1, l2)\n",
    "print_linked_list_recursively(out)\n"
   ]
  },
  {
   "cell_type": "code",
   "execution_count": null,
   "id": "2ae87e04",
   "metadata": {},
   "outputs": [],
   "source": []
  }
 ],
 "metadata": {
  "kernelspec": {
   "display_name": "Python 3",
   "language": "python",
   "name": "python3"
  },
  "language_info": {
   "codemirror_mode": {
    "name": "ipython",
    "version": 3
   },
   "file_extension": ".py",
   "mimetype": "text/x-python",
   "name": "python",
   "nbconvert_exporter": "python",
   "pygments_lexer": "ipython3",
   "version": "3.7.4"
  }
 },
 "nbformat": 4,
 "nbformat_minor": 5
}
