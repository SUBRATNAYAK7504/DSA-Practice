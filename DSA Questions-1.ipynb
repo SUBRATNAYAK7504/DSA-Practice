{
 "cells": [
  {
   "cell_type": "markdown",
   "id": "d49be5c6",
   "metadata": {},
   "source": [
    "# Reverse An Array"
   ]
  },
  {
   "cell_type": "code",
   "execution_count": 4,
   "id": "dcf3fa84",
   "metadata": {},
   "outputs": [
    {
     "data": {
      "text/plain": [
       "[5, 5, 4, 3, 5, 2, 1]"
      ]
     },
     "execution_count": 4,
     "metadata": {},
     "output_type": "execute_result"
    }
   ],
   "source": [
    "def reverse_array(array):\n",
    "    s = 0\n",
    "    e = len(array)-1\n",
    "    \n",
    "    while(s<e):\n",
    "        array[s], array[e] = array[e], array[s]\n",
    "        s += 1\n",
    "        e -= 1\n",
    "    return array\n",
    "reverse_array([1,2,5,3,4,5,5])"
   ]
  },
  {
   "cell_type": "markdown",
   "id": "e0122079",
   "metadata": {},
   "source": [
    "# Merge Two Sorted Arrays"
   ]
  },
  {
   "cell_type": "code",
   "execution_count": 16,
   "id": "a2960904",
   "metadata": {},
   "outputs": [
    {
     "data": {
      "text/plain": [
       "[1, 2, 3, 4, 5, 5, 8]"
      ]
     },
     "execution_count": 16,
     "metadata": {},
     "output_type": "execute_result"
    }
   ],
   "source": [
    "def compare_values(arr1, arr2, i, j):\n",
    "    val = []\n",
    "    if arr1[i] < arr2[j]:\n",
    "        val.append(arr1[i])\n",
    "        i = i+1\n",
    "    elif arr1[i] > arr2[j]:\n",
    "        val.append(arr2[j])\n",
    "        j = j+1\n",
    "    elif arr1[i] == arr2[j]:\n",
    "        val.append(arr1[i])\n",
    "        val.append(arr2[j])\n",
    "        i = i+1\n",
    "        j = j+1\n",
    "        \n",
    "    return i, j, val \n",
    "        \n",
    "def merge_sorted_arrays(arr1, arr2):\n",
    "    out_arr = []\n",
    "    i = 0\n",
    "    j = 0\n",
    "    \n",
    "    while( ( i < len(arr1) ) and ( j < len(arr2) )):\n",
    "        i, j, val = compare_values(arr1, arr2, i, j)\n",
    "        out_arr.extend(val)\n",
    "    \n",
    "    while( ( i < len(arr1) ) ):\n",
    "        out_arr.append(arr1[i])\n",
    "        i = i+1\n",
    "\n",
    "    while( ( j < len(arr2) ) ):\n",
    "        out_arr.append(arr2[j])\n",
    "        j = j+1\n",
    "    \n",
    "    return out_arr\n",
    "\n",
    "arr1 = [1,5,8]\n",
    "arr2 = [2,3,4,5]\n",
    "merge_sorted_arrays(arr1, arr2)"
   ]
  },
  {
   "cell_type": "markdown",
   "id": "b9f37f32",
   "metadata": {},
   "source": [
    "# Move Zero"
   ]
  },
  {
   "cell_type": "code",
   "execution_count": 17,
   "id": "a2450537",
   "metadata": {},
   "outputs": [
    {
     "data": {
      "text/plain": [
       "[1, 2, 3, 4, 0, 0]"
      ]
     },
     "execution_count": 17,
     "metadata": {},
     "output_type": "execute_result"
    }
   ],
   "source": [
    "def move_zero(arr):\n",
    "    i = 0\n",
    "    \n",
    "    for j in range(len(arr)):\n",
    "        if arr[j] != 0:\n",
    "            arr[j], arr[i] = arr[i], arr[j]\n",
    "            i +=1\n",
    "    return arr\n",
    "\n",
    "arr = [1,2,0,0,3,4]\n",
    "move_zero(arr)"
   ]
  },
  {
   "cell_type": "code",
   "execution_count": null,
   "id": "f414b6b0",
   "metadata": {},
   "outputs": [],
   "source": []
  }
 ],
 "metadata": {
  "kernelspec": {
   "display_name": "Python 3",
   "language": "python",
   "name": "python3"
  },
  "language_info": {
   "codemirror_mode": {
    "name": "ipython",
    "version": 3
   },
   "file_extension": ".py",
   "mimetype": "text/x-python",
   "name": "python",
   "nbconvert_exporter": "python",
   "pygments_lexer": "ipython3",
   "version": "3.7.4"
  }
 },
 "nbformat": 4,
 "nbformat_minor": 5
}
