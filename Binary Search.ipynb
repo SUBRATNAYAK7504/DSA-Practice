{
 "cells": [
  {
   "cell_type": "markdown",
   "metadata": {},
   "source": [
    "# Linear Search of O(n)"
   ]
  },
  {
   "cell_type": "code",
   "execution_count": 13,
   "metadata": {},
   "outputs": [
    {
     "name": "stdout",
     "output_type": "stream",
     "text": [
      "Found in the list\n",
      "0.000106\n"
     ]
    }
   ],
   "source": [
    "import datetime\n",
    "start_time = datetime.datetime.now()\n",
    "\n",
    "#search using linear search\n",
    "def linear_search(input_list, input_element):\n",
    "    for i in input_list:\n",
    "        if i == input_element:\n",
    "            print(\"Found in the list\")\n",
    "            return\n",
    "    print(\"Not found in the list\")\n",
    "\n",
    "end_time = datetime.datetime.now()\n",
    "\n",
    "linear_search([1, 2, 4, 5, 6, 7, 8, 9, 3], 3)\n",
    "\n",
    "print((end_time - start_time).total_seconds())"
   ]
  },
  {
   "cell_type": "markdown",
   "metadata": {},
   "source": [
    "# Binary Search O(logn)"
   ]
  },
  {
   "cell_type": "code",
   "execution_count": 12,
   "metadata": {},
   "outputs": [
    {
     "name": "stdout",
     "output_type": "stream",
     "text": [
      "Found in the list\n",
      "0.00055\n"
     ]
    }
   ],
   "source": [
    "import datetime\n",
    "start_time = datetime.datetime.now()\n",
    "\n",
    "#search using linear search\n",
    "def binary_search(input_list, input_element):\n",
    "    input_list = sorted(input_list)\n",
    "    s = 0\n",
    "    e = len(input_list) - 1\n",
    "    \n",
    "    mid = (s+e)//2\n",
    "    \n",
    "    while(e>=s):\n",
    "        if input_list[mid]>input_element:\n",
    "            e = mid - 1\n",
    "            \n",
    "        if input_list[mid]<input_element:\n",
    "            s = mid + 1\n",
    "        \n",
    "        if input_list[mid] == input_element:\n",
    "            print(\"Found in the list\")\n",
    "            return\n",
    "        mid = (s+e)//2\n",
    "            \n",
    "    print(\"Not found in the list\")\n",
    "\n",
    "end_time = datetime.datetime.now()\n",
    "\n",
    "binary_search([1, 2, 4, 5, 6, 7, 8, 9, 3], 3)\n",
    "\n",
    "print((end_time - start_time).total_seconds())"
   ]
  },
  {
   "cell_type": "markdown",
   "metadata": {},
   "source": [
    "# First and Last Occurence using binary search"
   ]
  },
  {
   "cell_type": "code",
   "execution_count": 17,
   "metadata": {},
   "outputs": [
    {
     "name": "stdout",
     "output_type": "stream",
     "text": [
      "first occurence at index 2 and last occurence at index 4\n",
      "0.000446\n"
     ]
    }
   ],
   "source": [
    "import datetime\n",
    "start_time = datetime.datetime.now()\n",
    "\n",
    "def last_occurence(input_list, input_element):\n",
    "    input_list = sorted(input_list)\n",
    "    s = 0\n",
    "    e = len(input_list) - 1\n",
    "    \n",
    "    mid = (s+e)//2\n",
    "\n",
    "    last_occ = -1\n",
    "    \n",
    "    while(e>=s):\n",
    "        if input_list[mid]>input_element:\n",
    "            e = mid - 1\n",
    "            \n",
    "        if input_list[mid]<input_element:\n",
    "            s = mid + 1\n",
    "        \n",
    "        if input_list[mid] == input_element:\n",
    "            last_occ = mid\n",
    "            s = mid+1\n",
    "        mid = (s+e)//2\n",
    "    \n",
    "    return last_occ\n",
    "\n",
    "def first_occurence(input_list, input_element):\n",
    "    input_list = sorted(input_list)\n",
    "    s = 0\n",
    "    e = len(input_list) - 1\n",
    "    \n",
    "    mid = (s+e)//2\n",
    "    \n",
    "    first_occ = -1\n",
    "    \n",
    "    while(e>=s):\n",
    "        if input_list[mid]>input_element:\n",
    "            e = mid - 1\n",
    "            \n",
    "        if input_list[mid]<input_element:\n",
    "            s = mid + 1\n",
    "        \n",
    "        if input_list[mid] == input_element:\n",
    "            first_occ = mid\n",
    "            e = mid-1\n",
    "        mid = (s+e)//2\n",
    "    \n",
    "    return first_occ\n",
    "\n",
    "#search using linear search\n",
    "def binary_search(input_list, input_element):\n",
    "    input_list = sorted(input_list)\n",
    "    s = 0\n",
    "    e = len(input_list) - 1\n",
    "    \n",
    "    mid = (s+e)//2\n",
    "    \n",
    "    first_occ = first_occurence(input_list, input_element)\n",
    "    last_occ = last_occurence(input_list, input_element)\n",
    "            \n",
    "    if first_occ == -1:\n",
    "        print(\"not in list\")\n",
    "    else:\n",
    "        print(f\"first occurence at index {first_occ} and last occurence at index {last_occ}\")\n",
    "\n",
    "end_time = datetime.datetime.now()\n",
    "\n",
    "binary_search([1, 2, 3, 3, 3, 4, 5], 3)\n",
    "\n",
    "print((end_time - start_time).total_seconds())"
   ]
  },
  {
   "cell_type": "markdown",
   "metadata": {},
   "source": [
    "# Find number of occurence of an element using binary search"
   ]
  },
  {
   "cell_type": "code",
   "execution_count": 22,
   "metadata": {},
   "outputs": [
    {
     "name": "stdout",
     "output_type": "stream",
     "text": [
      "Total number of occurence is 4\n",
      "0.001255\n"
     ]
    }
   ],
   "source": [
    "import datetime\n",
    "start_time = datetime.datetime.now()\n",
    "\n",
    "def last_occurence(input_list, input_element):\n",
    "    input_list = sorted(input_list)\n",
    "    s = 0\n",
    "    e = len(input_list) - 1\n",
    "    \n",
    "    mid = (s+e)//2\n",
    "\n",
    "    last_occ = -1\n",
    "    \n",
    "    while(e>=s):\n",
    "        if input_list[mid]>input_element:\n",
    "            e = mid - 1\n",
    "            \n",
    "        if input_list[mid]<input_element:\n",
    "            s = mid + 1\n",
    "        \n",
    "        if input_list[mid] == input_element:\n",
    "            last_occ = mid\n",
    "            s = mid+1\n",
    "        mid = (s+e)//2\n",
    "    \n",
    "    return last_occ\n",
    "\n",
    "def first_occurence(input_list, input_element):\n",
    "    input_list = sorted(input_list)\n",
    "    s = 0\n",
    "    e = len(input_list) - 1\n",
    "    \n",
    "    mid = (s+e)//2\n",
    "    \n",
    "    first_occ = -1\n",
    "    \n",
    "    while(e>=s):\n",
    "        if input_list[mid]>input_element:\n",
    "            e = mid - 1\n",
    "            \n",
    "        if input_list[mid]<input_element:\n",
    "            s = mid + 1\n",
    "        \n",
    "        if input_list[mid] == input_element:\n",
    "            first_occ = mid\n",
    "            e = mid-1\n",
    "        mid = (s+e)//2\n",
    "    \n",
    "    return first_occ\n",
    "\n",
    "#search using linear search\n",
    "def binary_search(input_list, input_element):\n",
    "    input_list = sorted(input_list)\n",
    "    s = 0\n",
    "    e = len(input_list) - 1\n",
    "    \n",
    "    #optimized way of calculating so that addition value should not excceed a lot\n",
    "    mid = s+((e-s)//2)\n",
    "    \n",
    "    first_occ = first_occurence(input_list, input_element)\n",
    "    last_occ = last_occurence(input_list, input_element)\n",
    "    \n",
    "    num_occ = (last_occ - first_occ)+1\n",
    "    \n",
    "    if first_occ == -1:\n",
    "        print(\"not in list\")\n",
    "    else:\n",
    "        print(f\"Total number of occurence is {num_occ}\")\n",
    "\n",
    "end_time = datetime.datetime.now()\n",
    "\n",
    "binary_search([1, 2, 3, 3, 3, 3, 4, 5], 3)\n",
    "\n",
    "print((end_time - start_time).total_seconds()) 2 3 2"
   ]
  },
  {
   "cell_type": "markdown",
   "metadata": {},
   "source": [
    "# Mountain peak problem using binary search"
   ]
  },
  {
   "cell_type": "code",
   "execution_count": 27,
   "metadata": {},
   "outputs": [
    {
     "name": "stdout",
     "output_type": "stream",
     "text": [
      "The peak element is 5 at index 4\n"
     ]
    }
   ],
   "source": [
    "#search the max number from an input where numbers are like mountain structure\n",
    "def mountain_peak_finder(input_list):\n",
    "    s = 0\n",
    "    e = len(input_list)-1\n",
    "    mid = (s+e)//2\n",
    "    \n",
    "    while(s<e):\n",
    "\n",
    "        if input_list[mid] <= input_list[mid+1]:\n",
    "            s = mid + 1\n",
    "        else:\n",
    "            e = mid\n",
    "        mid = (s+e)//2\n",
    "    print(f\"The peak element is {input_list[e]} at index {e}\")\n",
    "\n",
    "mountain_peak_finder([1,2,3,4,5,4,3,2,1,0])"
   ]
  },
  {
   "cell_type": "markdown",
   "metadata": {},
   "source": [
    "# Find pivot from given rotated list using binary search"
   ]
  },
  {
   "cell_type": "code",
   "execution_count": 29,
   "metadata": {},
   "outputs": [
    {
     "name": "stdout",
     "output_type": "stream",
     "text": [
      "The pivot element is 1 at index 3\n"
     ]
    }
   ],
   "source": [
    "#find the lowest element from the rotated list using binary search\n",
    "def find_pivot(input_list):\n",
    "    s = 0\n",
    "    e = len(input_list)-1\n",
    "    \n",
    "    mid = (s+e)//2\n",
    "    \n",
    "    while(s < e):\n",
    "        if input_list[mid] >= input_list[0]:\n",
    "            s = mid +1\n",
    "        else:\n",
    "            e = mid\n",
    "            \n",
    "        mid = (s+e)//2\n",
    "        \n",
    "    print(f\"The pivot element is {input_list[e]} at index {e}\")\n",
    "\n",
    "find_pivot([9, 10, 11, 1, 2, 3, 4])"
   ]
  },
  {
   "cell_type": "markdown",
   "metadata": {},
   "source": [
    "# Square Root using binary search "
   ]
  },
  {
   "cell_type": "code",
   "execution_count": 27,
   "metadata": {},
   "outputs": [
    {
     "name": "stdout",
     "output_type": "stream",
     "text": [
      "5\n"
     ]
    }
   ],
   "source": [
    "def square_root(number):\n",
    "    s = 0\n",
    "    e = number\n",
    "    answer = 0\n",
    "    array = [i for i in range(1,number+1)]\n",
    "    \n",
    "    while(s <= e):\n",
    "        mid = (s+e)//2\n",
    "        if array[mid]*array[mid] == number:\n",
    "            answer = array[mid]\n",
    "            break\n",
    "        if array[mid]*array[mid] > number:\n",
    "            e = mid - 1\n",
    "            \n",
    "        if array[mid]*array[mid] < number:\n",
    "            s = mid+1\n",
    "            answer = array[mid]\n",
    "            \n",
    "    return answer\n",
    "\n",
    "x = square_root(32)\n",
    "print(x)\n",
    "        \n",
    "        "
   ]
  },
  {
   "cell_type": "markdown",
   "metadata": {},
   "source": [
    "# Book Allocation using binary search"
   ]
  },
  {
   "cell_type": "code",
   "execution_count": 25,
   "metadata": {},
   "outputs": [
    {
     "name": "stdout",
     "output_type": "stream",
     "text": [
      "30 [30, 30]\n"
     ]
    }
   ],
   "source": [
    "\n",
    "def is_possible(book_list, student_number, max_number):\n",
    "    calc_student_number = 1\n",
    "    page_count = 0\n",
    "    page_count_list = []\n",
    "    \n",
    "    for i in range(len(book_list)):\n",
    "    \n",
    "        if page_count+book_list[i] <= max_number:\n",
    "            page_count += book_list[i]\n",
    "            if i == len(book_list)-1: page_count_list.append(page_count)\n",
    "                \n",
    "        else:\n",
    "            \n",
    "            calc_student_number +=1\n",
    "            if calc_student_number > student_number or book_list[i] > max_number:\n",
    "                return False, []\n",
    "            \n",
    "            page_count_list.append(page_count)\n",
    "            \n",
    "            if i == len(book_list)-1: page_count_list.append(book_list[i])\n",
    "            \n",
    "            page_count = book_list[i]\n",
    "           \n",
    "    return True, page_count_list\n",
    "    \n",
    "    \n",
    "    \n",
    "def book_allocation(book_list, student_number):\n",
    "    search_space = [i for i in range(max(book_list), sum(book_list)+1)]\n",
    "    \n",
    "    s = 0\n",
    "    e = len(search_space)-1\n",
    "    \n",
    "    answer = 0\n",
    "    page_count_out_list = []\n",
    "    \n",
    "    while(s <= e):\n",
    "        m = (s+e)//2\n",
    "        possible_flag, page_count_list = is_possible(book_list, student_number, search_space[m])\n",
    "        if possible_flag:\n",
    "            answer = search_space[m]\n",
    "            page_count_out_list = page_count_list\n",
    "            e = m-1\n",
    "        else:\n",
    "            s = m+1\n",
    "    return answer, page_count_out_list\n",
    "\n",
    "book_list = [10, 20, 30]\n",
    "student_number = 3\n",
    "x, y = book_allocation(book_list, student_number)\n",
    "print(x, y)"
   ]
  },
  {
   "cell_type": "code",
   "execution_count": null,
   "metadata": {},
   "outputs": [],
   "source": [
    "10 &&& 20 30 40   90\n",
    "10 20 &&&  30 40  70 \n",
    "10 20 30&&& 40    60 "
   ]
  },
  {
   "cell_type": "code",
   "execution_count": null,
   "metadata": {},
   "outputs": [],
   "source": [
    "10 @ 20 30 50\n",
    "10 20 @ 30 30"
   ]
  },
  {
   "cell_type": "markdown",
   "metadata": {},
   "source": [
    "# Agrressive Cows using binary search"
   ]
  },
  {
   "cell_type": "code",
   "execution_count": 49,
   "metadata": {},
   "outputs": [
    {
     "data": {
      "text/plain": [
       "(True, [4, 7, 10])"
      ]
     },
     "execution_count": 49,
     "metadata": {},
     "output_type": "execute_result"
    }
   ],
   "source": [
    "\n",
    "def is_possible(stall_list, number_of_cows, min_dist):\n",
    "    stall_list = sorted(stall_list)\n",
    "    last_cow_value = stall_list[0]\n",
    "    \n",
    "    cow_count = 1\n",
    "    assigned_stall = [stall_list[0]]\n",
    "    \n",
    "    for i in stall_list[1:]:\n",
    "        if i-last_cow_value >= min_dist:\n",
    "            last_cow_value = i\n",
    "            assigned_stall.append(i)\n",
    "            cow_count+=1\n",
    "            \n",
    "            if cow_count == number_of_cows: return True, assigned_stall\n",
    "\n",
    "    \n",
    "    return False, []\n",
    "    \n",
    "number_of_cows = 3\n",
    "stall_list = [5, 7, 4, 10, 14]   #[1,2,3,4,6]\n",
    "min_dist = 3\n",
    "\n",
    "is_possible(stall_list, number_of_cows, min_dist)"
   ]
  },
  {
   "cell_type": "code",
   "execution_count": 44,
   "metadata": {},
   "outputs": [
    {
     "data": {
      "text/plain": [
       "(5, [1, 6])"
      ]
     },
     "execution_count": 44,
     "metadata": {},
     "output_type": "execute_result"
    }
   ],
   "source": [
    "def is_possible(stall_list, number_of_cows, min_dist):\n",
    "    stall_list = sorted(stall_list)\n",
    "    last_cow_value = stall_list[0]\n",
    "    \n",
    "    cow_count = 1\n",
    "    assigned_stall = [stall_list[0]]\n",
    "    \n",
    "    for i in stall_list[1:]:\n",
    "        if i-last_cow_value >= min_dist:\n",
    "            last_cow_value = i\n",
    "            assigned_stall.append(i)\n",
    "            cow_count+=1\n",
    "            \n",
    "            if cow_count == number_of_cows: return True, assigned_stall\n",
    "\n",
    "    \n",
    "    return False, []\n",
    "    \n",
    "    \n",
    "def agg_cow(stall_list, number_of_cows):\n",
    "    search_space = [i for i in range((max(stall_list)-min(stall_list))+1)]\n",
    "    s = 0\n",
    "    e = max(stall_list)-min(stall_list)\n",
    "    answer = 0\n",
    "    stall_list_out = []\n",
    "    while(s <= e):\n",
    "        m = (s+e)//2\n",
    "        check_flag, assigned_stall_list = is_possible(stall_list, number_of_cows, search_space[m])\n",
    "        if check_flag:\n",
    "            s = m+1\n",
    "            answer = search_space[m]\n",
    "            stall_list_out = assigned_stall_list\n",
    "        else:\n",
    "            e = m-1\n",
    "    \n",
    "    return answer, stall_list_out\n",
    "            \n",
    "number_of_cows = 2\n",
    "stall_list = [1,4,6,2,3]\n",
    "\n",
    "agg_cow(stall_list, number_of_cows)\n"
   ]
  }
 ],
 "metadata": {
  "kernelspec": {
   "display_name": "Python 3",
   "language": "python",
   "name": "python3"
  },
  "language_info": {
   "codemirror_mode": {
    "name": "ipython",
    "version": 3
   },
   "file_extension": ".py",
   "mimetype": "text/x-python",
   "name": "python",
   "nbconvert_exporter": "python",
   "pygments_lexer": "ipython3",
   "version": "3.7.4"
  }
 },
 "nbformat": 4,
 "nbformat_minor": 2
}
