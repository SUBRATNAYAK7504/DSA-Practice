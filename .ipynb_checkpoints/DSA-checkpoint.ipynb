{
 "cells": [
  {
   "cell_type": "code",
   "execution_count": 23,
   "metadata": {},
   "outputs": [
    {
     "name": "stdout",
     "output_type": "stream",
     "text": [
      "i is 0\n",
      "j is 3\n",
      "i is 1\n",
      "j is 2\n",
      "i is 2\n",
      "j is 1\n"
     ]
    },
    {
     "data": {
      "text/plain": [
       "'ipah'"
      ]
     },
     "execution_count": 23,
     "metadata": {},
     "output_type": "execute_result"
    }
   ],
   "source": [
    "#Reverse A string using recursion\n",
    "def reverse(st,i,j):\n",
    "    print(f\"i is {i}\")\n",
    "    print(f\"j is {j}\")\n",
    "    #base condition\n",
    "    if i>=j:\n",
    "        return st\n",
    "    st_list = list(st)\n",
    "    z = st[i]\n",
    "    st_list[i]=st_list[j]\n",
    "    st_list[j]=z\n",
    "    st = \"\".join(st_list)\n",
    "    st = reverse(st,i+1,j-1)\n",
    "    return st\n",
    "reverse(\"hapi\",0,3)"
   ]
  },
  {
   "cell_type": "code",
   "execution_count": 22,
   "metadata": {},
   "outputs": [
    {
     "name": "stdout",
     "output_type": "stream",
     "text": [
      "i is 0\n"
     ]
    }
   ],
   "source": [
    "i = 0\n",
    "print(\"i is {0}\".format(i))"
   ]
  },
  {
   "cell_type": "code",
   "execution_count": 18,
   "metadata": {},
   "outputs": [
    {
     "data": {
      "text/plain": [
       "[7, 2, 3]"
      ]
     },
     "execution_count": 18,
     "metadata": {},
     "output_type": "execute_result"
    }
   ],
   "source": [
    "x = [1,2,3]\n",
    "x[0] = 7\n",
    "x"
   ]
  },
  {
   "cell_type": "code",
   "execution_count": 14,
   "metadata": {},
   "outputs": [
    {
     "name": "stdout",
     "output_type": "stream",
     "text": [
      "marae\n"
     ]
    }
   ],
   "source": [
    "x = \"earam\"\n",
    "z = \"\"\n",
    "for i in range(len(x),0,-1):\n",
    "    z = z+x[i-1]\n",
    "print(z)"
   ]
  },
  {
   "cell_type": "code",
   "execution_count": 25,
   "metadata": {},
   "outputs": [
    {
     "data": {
      "text/plain": [
       "True"
      ]
     },
     "execution_count": 25,
     "metadata": {},
     "output_type": "execute_result"
    }
   ],
   "source": [
    "#Palindrome using recursion\n",
    "def palin(st):\n",
    "    if len(st)<=1:\n",
    "        return True\n",
    "    if st[0]==st[-1]:\n",
    "        return palin(st[1:-1])\n",
    "    else:\n",
    "        return False\n",
    "    \n",
    "palin(\"xyzxy\")"
   ]
  },
  {
   "cell_type": "code",
   "execution_count": 26,
   "metadata": {},
   "outputs": [
    {
     "data": {
      "text/plain": [
       "120"
      ]
     },
     "execution_count": 26,
     "metadata": {},
     "output_type": "execute_result"
    }
   ],
   "source": [
    "#find factorial number using recursion\n",
    "def fact(n):\n",
    "    if n == 1:\n",
    "        return 1\n",
    "    return n*fact(n-1)\n",
    "fact(5)"
   ]
  },
  {
   "cell_type": "code",
   "execution_count": 31,
   "metadata": {},
   "outputs": [
    {
     "data": {
      "text/plain": [
       "55"
      ]
     },
     "execution_count": 31,
     "metadata": {},
     "output_type": "execute_result"
    }
   ],
   "source": [
    "#find fibonaaci series using recursion\n",
    "def fibo(n):\n",
    "    if n == 0:\n",
    "        return 0\n",
    "    if n==1:\n",
    "        return 1\n",
    "    return fibo(n-1)+fibo(n-2)\n",
    "fibo(10)"
   ]
  },
  {
   "cell_type": "code",
   "execution_count": 30,
   "metadata": {},
   "outputs": [
    {
     "name": "stdout",
     "output_type": "stream",
     "text": [
      "['[]', '[2]', '[1]', '[1, 2]']\n"
     ]
    }
   ],
   "source": [
    "#find possible number of combination from a given list\n",
    "#approach:include exclude game\n",
    "#backtracking will be used as well\n",
    "ans = []\n",
    "def comb(numbers,output,i):\n",
    "    global ans\n",
    "    #base condition\n",
    "    if i >= (len(numbers)):\n",
    "        #print(output)\n",
    "        ans.append(str(output))\n",
    "        \n",
    "        #print(ans)\n",
    "        return \n",
    "    \n",
    "    #exclude\n",
    "    comb(numbers,output,i+1)\n",
    "    \n",
    "    #include\n",
    "    output.append(numbers[i])\n",
    "    comb(numbers,output,i+1)\n",
    "    output.pop()\n",
    "    \n",
    "    return ans\n",
    "\n",
    "x = comb([1,2],[],0)\n",
    "print(x)"
   ]
  },
  {
   "cell_type": "code",
   "execution_count": 126,
   "metadata": {},
   "outputs": [],
   "source": [
    "#find subsequence using recusrsion\n",
    "strans = []\n",
    "def strcomb(word,i,output):\n",
    "    global strans\n",
    "    if i >= len(word):\n",
    "        strans.append(output)\n",
    "        return\n",
    "    #exclude   \n",
    "    strcomb(word,i+1,output)\n",
    "    #include\n",
    "    output += word[i]\n",
    "    strcomb(word,i+1,output)\n",
    "    \n",
    "strcomb(\"abcd\",0,\"\")  "
   ]
  },
  {
   "cell_type": "code",
   "execution_count": 127,
   "metadata": {},
   "outputs": [
    {
     "data": {
      "text/plain": [
       "['',\n",
       " 'd',\n",
       " 'c',\n",
       " 'cd',\n",
       " 'b',\n",
       " 'bd',\n",
       " 'bc',\n",
       " 'bcd',\n",
       " 'a',\n",
       " 'ad',\n",
       " 'ac',\n",
       " 'acd',\n",
       " 'ab',\n",
       " 'abd',\n",
       " 'abc',\n",
       " 'abcd']"
      ]
     },
     "execution_count": 127,
     "metadata": {},
     "output_type": "execute_result"
    }
   ],
   "source": [
    "strans"
   ]
  },
  {
   "cell_type": "code",
   "execution_count": 26,
   "metadata": {},
   "outputs": [],
   "source": [
    "#permutation of string using recursion\n",
    "perms = []\n",
    "def perm(word_list,i):\n",
    "    global perms\n",
    "    if i >= len(word_list):\n",
    "        word = \"\".join(word_list)\n",
    "        perms.append(word)\n",
    "        return\n",
    "    for j in range(i,len(word_list)):\n",
    "        x = word_list[i]\n",
    "        word_list[i] = word_list[j]\n",
    "        word_list[j] = x\n",
    "        perm(word_list,i+1)\n",
    "        word_list[j] = word_list[i]\n",
    "        word_list[i] = x\n",
    "perm([\"a\",\"b\",\"c\"],0)"
   ]
  },
  {
   "cell_type": "code",
   "execution_count": 27,
   "metadata": {},
   "outputs": [
    {
     "data": {
      "text/plain": [
       "['abc', 'acb', 'bac', 'bca', 'cba', 'cab']"
      ]
     },
     "execution_count": 27,
     "metadata": {},
     "output_type": "execute_result"
    }
   ],
   "source": [
    "perms"
   ]
  },
  {
   "cell_type": "code",
   "execution_count": 7,
   "metadata": {},
   "outputs": [],
   "source": [
    "#rat in a maze problem\n",
    "paths = []\n",
    "def issafe(x,y,m,n,visted,maze):\n",
    "    if (x>=0 and x<=m) and (y>=0 and y <= m) and visited[x][y]==0 and maze[x][y]==1:\n",
    "        return True\n",
    "    else:\n",
    "        return False\n",
    "def ratmaze(m,n,x,y,maze,visted,path_list):\n",
    "    if x==m and y==n:\n",
    "        global paths\n",
    "        path = \"\".join(path_list)\n",
    "        paths.append(path)\n",
    "        return\n",
    "    visited[x][y] = 1\n",
    "    #move down\n",
    "    newx = x+1\n",
    "    newy = y\n",
    "    if issafe(newx,newy,m,n,visited,maze):\n",
    "        path_list.append(\"D\")\n",
    "        ratmaze(m,n,newx,newy,maze,visited,path_list)\n",
    "        path_list.pop()\n",
    "    #move up\n",
    "    newx = x-1\n",
    "    newy = y\n",
    "    if issafe(newx,newy,m,n,visited,maze):\n",
    "        path_list.append(\"U\")\n",
    "        ratmaze(m,n,newx,newy,maze,visited,path_list)\n",
    "        path_list.pop()\n",
    "    #move right\n",
    "    newx = x\n",
    "    newy = y+1\n",
    "    if issafe(newx,newy,m,n,visited,maze):\n",
    "        path_list.append(\"R\")\n",
    "        ratmaze(m,n,newx,newy,maze,visited,path_list)\n",
    "        path_list.pop()\n",
    "    #move down\n",
    "    newx = x\n",
    "    newy = y-1\n",
    "    if issafe(newx,newy,m,n,visited,maze):\n",
    "        path_list.append(\"L\")\n",
    "        ratmaze(m,n,newx,newy,maze,visited,path_list)\n",
    "        path_list.pop()\n",
    "    \n",
    "    visited[x][y] = 0"
   ]
  },
  {
   "cell_type": "code",
   "execution_count": 11,
   "metadata": {},
   "outputs": [
    {
     "name": "stdout",
     "output_type": "stream",
     "text": [
      "{'DRRRDD', 'DDRURRDD', 'DDRDRR', 'DRDDRR'}\n"
     ]
    }
   ],
   "source": [
    "maze = [[1,0,0,0],\n",
    "        [1,1,1,1],\n",
    "        [1,1,0,1],\n",
    "        [0,1,1,1]]\n",
    "visited = [[0,0,0,0],[0,0,0,0],[0,0,0,0],[0,0,0,0]]\n",
    "ratmaze(3,3,0,0,maze,visited,[])\n",
    "print(set(paths))"
   ]
  },
  {
   "cell_type": "code",
   "execution_count": 181,
   "metadata": {},
   "outputs": [],
   "source": [
    "#creating trie data structure\n",
    "class Trie():\n",
    "    def __init__(self):\n",
    "        self.child = {}\n",
    "        self.answer = []\n",
    "    #insert the word\n",
    "    def insert(self,word):\n",
    "        current = self.child\n",
    "        for w in word:\n",
    "            if w not in current:\n",
    "                current[w] = {}\n",
    "            current = current[w]\n",
    "        current[\"#\"] = \"#\"\n",
    "    #search the word trie\n",
    "    def search(self,word):\n",
    "        current = self.child\n",
    "        for w in word:\n",
    "            if w not in current:\n",
    "                return False\n",
    "            current = current[w]\n",
    "        if \"#\" in current:\n",
    "            return True\n",
    "        else:\n",
    "            return False\n",
    "    #return boolean if any word is available starting with given word\n",
    "    def start_with(self,word):\n",
    "        current=self.child\n",
    "        for w in word:\n",
    "            if w not in current:\n",
    "                return False\n",
    "            current = current[w]\n",
    "        return True\n",
    "    #it will print all the words start with given word\n",
    "    def prefix_word(self,prefix):\n",
    "        current = self.child\n",
    "        for w in prefix:\n",
    "            if w not in current:\n",
    "                return False\n",
    "            current = current[w]\n",
    "        print(current)\n",
    "        self.__word_maker(current,prefix)\n",
    "            \n",
    "    def __word_maker(self,current,prefix):\n",
    "        if \"#\" in current and len(current)==1:\n",
    "            self.answer.append(prefix)\n",
    "            return\n",
    "        if \"#\" in current:\n",
    "            self.answer.append(prefix)\n",
    "        for s in current:\n",
    "            if s==\"#\":\n",
    "                continue\n",
    "            prefix += s\n",
    "            self.__word_maker(current[s],prefix)\n",
    "            prefix = prefix[0:-1]\n",
    "        \n",
    "        \n",
    "        \n",
    "            \n",
    "        \n",
    "        \n",
    "     "
   ]
  },
  {
   "cell_type": "code",
   "execution_count": 182,
   "metadata": {
    "scrolled": true
   },
   "outputs": [
    {
     "name": "stdout",
     "output_type": "stream",
     "text": [
      "{'o': {'g': {'#': '#', 'g': {'y': {'#': '#'}}}, 'b': {'#': '#'}, 'c': {'#': '#'}}}\n"
     ]
    }
   ],
   "source": [
    "#creating objects of trie and using that\n",
    "obj = Trie()\n",
    "obj.insert(\"dog\")\n",
    "obj.insert(\"dob\")\n",
    "obj.insert(\"doc\")\n",
    "obj.insert(\"doggy\")\n",
    "\n",
    "#b = obj.search(\"dog\")\n",
    "c = obj.prefix_word(\"d\")\n"
   ]
  },
  {
   "cell_type": "code",
   "execution_count": 40,
   "metadata": {},
   "outputs": [],
   "source": [
    "#n queen problem (backtracking and recursion)\n",
    "answer = []\n",
    "def is_safe(row,col,board):\n",
    "    x = row\n",
    "    y = col\n",
    "    #for checking row\n",
    "    while y>=0:\n",
    "        if board[x][y]==1:\n",
    "            return False\n",
    "        y = y - 1\n",
    "    #for checking diagonal up\n",
    "    x = row\n",
    "    y = col\n",
    "    while x>=0 and y>=0:\n",
    "        if board[x][y]==1:\n",
    "            return False\n",
    "        x = x-1\n",
    "        y = y-1\n",
    "    \n",
    "    #for checkin diagonal down\n",
    "    x = row\n",
    "    y = col\n",
    "    while x<len(board) and y>=0:\n",
    "        if board[x][y]==1:\n",
    "            return False\n",
    "        x = x+1\n",
    "        y = y-1\n",
    "    return True\n",
    "\n",
    "    \n",
    "def nqueen_problem(col,board,queens):\n",
    "    if col == queens:\n",
    "        print(board)\n",
    "        answer.append(board)\n",
    "        return\n",
    "    for i in range(len(board)):\n",
    "        if is_safe(i,col,board):\n",
    "            board[i][col] = 1\n",
    "            nqueen_problem(col+1,board,queens)\n",
    "            board[i][col] = 0"
   ]
  },
  {
   "cell_type": "code",
   "execution_count": 45,
   "metadata": {},
   "outputs": [
    {
     "name": "stdout",
     "output_type": "stream",
     "text": [
      "[[0, 0, 1, 0], [1, 0, 0, 0], [0, 0, 0, 1], [0, 1, 0, 0]]\n",
      "[[0, 1, 0, 0], [0, 0, 0, 1], [1, 0, 0, 0], [0, 0, 1, 0]]\n"
     ]
    }
   ],
   "source": [
    "board = [[0,0,0,0],\n",
    "         [0,0,0,0],\n",
    "         [0,0,0,0],\n",
    "         [0,0,0,0]]\n",
    "queens = 4\n",
    "nqueen_problem(0,board,queens)"
   ]
  },
  {
   "cell_type": "code",
   "execution_count": 62,
   "metadata": {},
   "outputs": [],
   "source": [
    "def is_safe(val,board,row,col):\n",
    "    #to check in row\n",
    "    if val in board[row]:\n",
    "        return False\n",
    "    #for cheking in column\n",
    "    for i in range(len(board)):\n",
    "        if board[i][col] == val:\n",
    "            return False\n",
    "        if board[3*(row/3)+i/3][3*(col/3)+i%3] == val:\n",
    "            return False\n",
    "    return True\n",
    "    \n",
    "def sudoku_solver(board):\n",
    "    for i in range(len(board)):\n",
    "        for j in range(len(board[0])):\n",
    "            if board[i][j] == 0:\n",
    "                for val in range(1,len(board[0]+1)):\n",
    "                    if is_safe(val,board,i,j):\n",
    "                        board[i][j] = val\n",
    "                        next_possible = sudoku_solver(board)\n",
    "                        if next_possible:\n",
    "                            return True\n",
    "                        else:\n",
    "                            board[i][j]=0\n",
    "                return False\n",
    "\n",
    "            return True"
   ]
  },
  {
   "cell_type": "code",
   "execution_count": 95,
   "metadata": {},
   "outputs": [],
   "source": [
    "#code to solve 0/1 kanpsak problem\n",
    "items = []\n",
    "def knapsack_problem(val,weight,W,n):\n",
    "    if W == 0 or n == 0:\n",
    "        return 0\n",
    "    if weight[n-1]<=W:\n",
    "        return max(val[n-1]+knapsack_problem(val,weight,W-weight[n-1],n-1),knapsack_problem(val,weight,W,n-1))\n",
    "    elif weight[n-1] > W:\n",
    "        return knapsack_problem(val,weight,W,n-1)\n",
    "    \n",
    "    "
   ]
  },
  {
   "cell_type": "code",
   "execution_count": 96,
   "metadata": {},
   "outputs": [
    {
     "data": {
      "text/plain": [
       "31"
      ]
     },
     "execution_count": 96,
     "metadata": {},
     "output_type": "execute_result"
    }
   ],
   "source": [
    "W = 10\n",
    "n = 5\n",
    "weight = [5,2,1,4,3]\n",
    "val = [20,5,4,7,5]\n",
    "max_profit = knapsack_problem(val,weight,W,n)\n",
    "max_profit"
   ]
  },
  {
   "cell_type": "code",
   "execution_count": 31,
   "metadata": {},
   "outputs": [],
   "source": [
    "#to get the items of knapsack\n",
    "items = {}\n",
    "def knapsack_problem(val,weight,W,n,value,items_included):\n",
    "    if W == 0 or n == 0:\n",
    "        items[items_included] = value\n",
    "        return 0\n",
    "    if weight[n-1]<=W:\n",
    "        #include\n",
    "        knapsack_problem(val,weight,W-weight[n-1],n-1,value+val[n-1],items_included+str(n-1))\n",
    "        #exclude\n",
    "        knapsack_problem(val,weight,W,n-1,value,items_included)\n",
    "    elif weight[n-1] > W:\n",
    "        #exclude when weight is more\n",
    "        return knapsack_problem(val,weight,W,n-1,value,items_included)\n",
    "    \n",
    "    "
   ]
  },
  {
   "cell_type": "code",
   "execution_count": 41,
   "metadata": {},
   "outputs": [
    {
     "name": "stdout",
     "output_type": "stream",
     "text": [
      "320\n",
      "31\n",
      "{'4321': 21, '432': 16, '431': 17, '43': 12, '421': 14, '420': 29, '42': 9, '410': 30, '41': 10, '40': 25, '4': 5, '321': 16, '320': 31, '32': 11, '31': 12, '30': 27, '3': 7, '210': 29, '21': 9, '20': 24, '2': 4, '10': 25, '1': 5, '0': 20, '': 0}\n"
     ]
    }
   ],
   "source": [
    "W = 10\n",
    "n = 5\n",
    "weight = [5,2,1,4,3]\n",
    "val = [20,5,4,7,5]\n",
    "knapsack_problem(val,weight,W,n,0,\"\")\n",
    "max_value = 0\n",
    "key =\"\"\n",
    "for i,j in items.items():\n",
    "    if j>max_value:\n",
    "        max_value = j\n",
    "        key = i\n",
    "print(key)\n",
    "print(max_value)\n",
    "print(items)"
   ]
  },
  {
   "cell_type": "code",
   "execution_count": 9,
   "metadata": {},
   "outputs": [
    {
     "name": "stdout",
     "output_type": "stream",
     "text": [
      "10\n",
      "9\n",
      "8\n",
      "7\n",
      "6\n",
      "5\n",
      "4\n",
      "3\n",
      "2\n",
      "1\n"
     ]
    }
   ],
   "source": [
    "#print using recursion\n",
    "def print_function(x):\n",
    "    #base condition\n",
    "    if x == 0:\n",
    "        return\n",
    "    print(x)\n",
    "    #recursive relation\n",
    "    print_function(x-1)\n",
    "\n",
    "    \n",
    "print_function(10)\n",
    "    "
   ]
  },
  {
   "cell_type": "code",
   "execution_count": 7,
   "metadata": {},
   "outputs": [
    {
     "name": "stdout",
     "output_type": "stream",
     "text": [
      "0\n"
     ]
    }
   ],
   "source": [
    "#simple example of backtracking using variable z\n",
    "z = 0\n",
    "def print_function(x):\n",
    "    global z\n",
    "    #base condition\n",
    "    if x == 0:\n",
    "        return\n",
    "    z = z+1\n",
    "    #recursive relation\n",
    "    print_function(x-1)\n",
    "    z = z-1\n",
    "    print(x)\n",
    "print_function(10)"
   ]
  },
  {
   "cell_type": "code",
   "execution_count": 76,
   "metadata": {},
   "outputs": [
    {
     "name": "stdout",
     "output_type": "stream",
     "text": [
      "got the value from table\n",
      "got the value from table\n",
      "got the value from table\n",
      "got the value from table\n"
     ]
    },
    {
     "data": {
      "text/plain": [
       "31"
      ]
     },
     "execution_count": 76,
     "metadata": {},
     "output_type": "execute_result"
    }
   ],
   "source": [
    "#creating the table to store data\n",
    "w = 10\n",
    "n = 5\n",
    "t = []\n",
    "for i in range(n+1):\n",
    "    t.append([])\n",
    "    for j in range(w+1):\n",
    "        t[i].append(-1)\n",
    "        \n",
    "#knapsack using memorization\n",
    "\n",
    "def knapsack(weights,values,w,n):\n",
    "        if w == 0 or n == 0:\n",
    "            return 0\n",
    "        if t[n][w]!= -1:\n",
    "            print(\"got the value from table\")\n",
    "            return t[n][w]\n",
    "        if weights[n-1]<=w:\n",
    "            t[n][w] = max(values[n-1]+knapsack(weights,values,w-weights[n-1],n-1),knapsack(weights,values,w,n-1))\n",
    "            return t[n][w]\n",
    "        else:\n",
    "            t[n][w] = knapsack(weights,values,w,n-1)\n",
    "            return t[n][w] \n",
    "knapsack([5,2,1,4,3],[20,5,4,7,5],w,n)\n",
    "t"
   ]
  },
  {
   "cell_type": "code",
   "execution_count": 97,
   "metadata": {},
   "outputs": [
    {
     "data": {
      "text/plain": [
       "[[0, 0, 0, 0, 0, 0, 0, 0, 0, 0, 0],\n",
       " [0, 0, 0, 0, 0, 20, 20, 20, 20, 20, 20],\n",
       " [0, 0, 5, 5, 5, 20, 20, 25, 25, 25, 25],\n",
       " [0, 4, 5, 9, 9, 20, 24, 25, 29, 29, 29],\n",
       " [0, 4, 5, 9, 9, 20, 24, 25, 29, 29, 31],\n",
       " [0, 4, 5, 9, 9, 20, 24, 25, 29, 29, 31]]"
      ]
     },
     "execution_count": 97,
     "metadata": {},
     "output_type": "execute_result"
    }
   ],
   "source": [
    "n = 5\n",
    "W = 10\n",
    "val = [20,5,4,7,5]\n",
    "wt = [5,2,1,4,3]\n",
    "def knapsack(wt,val,W,n):\n",
    "    #creating the table\n",
    "    k = [[0 for x in range(W+1)] for x in range(n+1)]\n",
    "    \n",
    "    for i in range(n+1):\n",
    "        for w in range(W+1):\n",
    "            #initializing values as 0\n",
    "            if i == 0 or j == 0:\n",
    "                k[i][w] = 0\n",
    "            #checking if current weight by for loop is greater than equalto or not by the items weight\n",
    "            elif wt[i-1] <= w:\n",
    "                k[i][w] = max(val[i-1]+k[i-1][w-wt[i-1]],k[i-1][w])\n",
    "            else:\n",
    "                k[i][w] = k[i-1][w]\n",
    "knapsack(wt,val,W,n)\n",
    "k"
   ]
  },
  {
   "cell_type": "code",
   "execution_count": null,
   "metadata": {},
   "outputs": [],
   "source": [
    "#problems to be solved\n",
    "#target subset sum problem using dp and recursion\n",
    "#equal partition problem usimg dp and recursion\n",
    "#find out the subset which is having min difference\n",
    "#find out the subset with given difference"
   ]
  },
  {
   "cell_type": "code",
   "execution_count": 23,
   "metadata": {},
   "outputs": [
    {
     "name": "stdout",
     "output_type": "stream",
     "text": [
      "[2, 3, 5]\n",
      "[2, 3, 5]\n",
      "[5, 5]\n",
      "[10]\n"
     ]
    }
   ],
   "source": [
    "#find possible number of subsets which will add up to the target\n",
    "def target_subset(number_list,target,output):\n",
    "    \n",
    "    if target == 0:\n",
    "        print(output)\n",
    "        return\n",
    "    if len(number_list)==0:\n",
    "        return\n",
    "   \n",
    "    if number_list[0]<=target:\n",
    "        #include\n",
    "        output.append(number_list[0])\n",
    "        target_subset(number_list[1:],target-number_list[0],output)\n",
    "        output.pop()\n",
    "        #exclude\n",
    "        target_subset(number_list[1:],target,output)\n",
    "    else:\n",
    "        target_subset(number_list[1:],target,output)\n",
    "target_subset([2,3,5,10,5],10,[])"
   ]
  },
  {
   "cell_type": "code",
   "execution_count": 36,
   "metadata": {},
   "outputs": [
    {
     "data": {
      "text/plain": [
       "True"
      ]
     },
     "execution_count": 36,
     "metadata": {},
     "output_type": "execute_result"
    }
   ],
   "source": [
    "#find is there any subset which will be add upto target value by DP\n",
    "def target_subset(number_list,t):\n",
    "    dp_table = [[-1 for j in range(t+1)] for i in range(len(number_list)+1)]\n",
    "    for i in range(len(number_list)+1):\n",
    "        for j in range(t+1):\n",
    "            if i == 0 or j == 0:\n",
    "                if i == 0:\n",
    "                    dp_table[i][j] = False\n",
    "                if j == 0:\n",
    "                    dp_table[i][j] = True\n",
    "            elif number_list[i-1]<=j:\n",
    "                #check any one is true from include or exclude\n",
    "                dp_table[i][j] = dp_table[i-1][j] or dp_table[i-1][j-number_list[i-1]]\n",
    "                \n",
    "            else:\n",
    "                dp_table[i][j] = dp_table[i-1][j]\n",
    "    return dp_table[len(number_list)][t]\n",
    "target_subset([3,2,5,10],10)            "
   ]
  },
  {
   "cell_type": "code",
   "execution_count": 89,
   "metadata": {},
   "outputs": [
    {
     "name": "stdout",
     "output_type": "stream",
     "text": [
      "[[1, 0, 0, 0, 0, 0, 0, 0, 0, 0, 0], [1, 0, 0, 1, 0, 0, 0, 0, 0, 0, 0], [1, 0, 1, 1, 0, 1, 0, 0, 0, 0, 0], [1, 0, 1, 1, 0, 2, 0, 1, 1, 0, 1], [1, 0, 1, 1, 0, 2, 0, 1, 1, 0, 2]]\n"
     ]
    },
    {
     "data": {
      "text/plain": [
       "2"
      ]
     },
     "execution_count": 89,
     "metadata": {},
     "output_type": "execute_result"
    }
   ],
   "source": [
    "#find count subset which will be add upto target value by DP\n",
    "def target_subset(number_list,t):\n",
    "    dp_table = [[-1 for j in range(t+1)] for i in range(len(number_list)+1)]\n",
    "    for i in range(len(number_list)+1):\n",
    "        for j in range(t+1):\n",
    "            if i == 0 or j == 0:\n",
    "                if i == 0:\n",
    "                    dp_table[i][j] = 0\n",
    "                if j == 0:\n",
    "                    dp_table[i][j] = 1\n",
    "            elif number_list[i-1]<=j:\n",
    "                #check any one is true from include or exclude\n",
    "                dp_table[i][j] = dp_table[i-1][j] + dp_table[i-1][j-number_list[i-1]]\n",
    "                \n",
    "            else:\n",
    "                dp_table[i][j] = dp_table[i-1][j]\n",
    "    print(dp_table)\n",
    "    return dp_table[len(number_list)][t]\n",
    "target_subset([3,2,5,10],10)"
   ]
  },
  {
   "cell_type": "code",
   "execution_count": 44,
   "metadata": {},
   "outputs": [
    {
     "data": {
      "text/plain": [
       "True"
      ]
     },
     "execution_count": 44,
     "metadata": {},
     "output_type": "execute_result"
    }
   ],
   "source": [
    "#equal partition problem (return boolean value using previous subset function dp)\n",
    "def target_subset(number_list,t):\n",
    "    dp_table = [[-1 for j in range(t+1)] for i in range(len(number_list)+1)]\n",
    "    for i in range(len(number_list)+1):\n",
    "        for j in range(t+1):\n",
    "            if i == 0 or j == 0:\n",
    "                if i == 0:\n",
    "                    dp_table[i][j] = False\n",
    "                if j == 0:\n",
    "                    dp_table[i][j] = True\n",
    "            elif number_list[i-1]<=j:\n",
    "                #check any one is true from include or exclude\n",
    "                dp_table[i][j] = dp_table[i-1][j] or dp_table[i-1][j-number_list[i-1]]\n",
    "                \n",
    "            else:\n",
    "                dp_table[i][j] = dp_table[i-1][j]\n",
    "    return dp_table[len(number_list)][t]\n",
    "def equal_partition(number_list):\n",
    "    if sum(number_list)%2 != 0:\n",
    "        return False\n",
    "    return target_subset(number_list,sum(number_list)//2)\n",
    "equal_partition([1,2,2,3])"
   ]
  },
  {
   "cell_type": "code",
   "execution_count": 49,
   "metadata": {},
   "outputs": [
    {
     "name": "stdout",
     "output_type": "stream",
     "text": [
      "The two subsets are [5] and [3, 2]\n"
     ]
    }
   ],
   "source": [
    "#equl partition subset finding using recursion\n",
    "def equal_partition(number_list,i,output):\n",
    "    if sum(output)== sum(number_list)//2:\n",
    "        output_2 = []\n",
    "        for i in number_list:\n",
    "            if i not in output:\n",
    "                output_2.append(i)\n",
    "        print(f\"The two subsets are {output} and {output_2}\")\n",
    "        return\n",
    "    if i == len(number_list)-1:\n",
    "        return\n",
    "    #include\n",
    "    equal_partition(number_list,i+1,output+[number_list[i]])\n",
    "    #exclude\n",
    "    equal_partition(number_list,i+1,output)\n",
    "equal_partition([5,3,2],0,[])"
   ]
  },
  {
   "cell_type": "code",
   "execution_count": 63,
   "metadata": {},
   "outputs": [
    {
     "name": "stdout",
     "output_type": "stream",
     "text": [
      "[1, 3, 4, 5, 6] [2, 7]\n"
     ]
    }
   ],
   "source": [
    "#find out the subset with given difference\n",
    "def find_subset_with_diff(number_list,d,output,i):\n",
    "    if sum(output) == (d+sum(number_list))/2:\n",
    "        output_2 = [i for i in number_list if i not in output]\n",
    "        print(f\"{output} {output_2}\")\n",
    "        return\n",
    "    if i == len(number_list)-1:\n",
    "        return\n",
    "    #include\n",
    "    find_subset_with_diff(number_list,d,output+[number_list[i]],i+1)\n",
    "    #exclude\n",
    "    find_subset_with_diff(number_list,d,output,i+1)\n",
    "find_subset_with_diff([1,2,3,4,5,6,7],10,[],0)"
   ]
  },
  {
   "cell_type": "code",
   "execution_count": 64,
   "metadata": {},
   "outputs": [
    {
     "name": "stdout",
     "output_type": "stream",
     "text": [
      "[1, 2, 3, 4, 5] [6, 7]\n",
      "[1, 2, 3, 4, 6] [5, 7]\n",
      "[1, 2, 3, 5, 6] [4, 7]\n",
      "[1, 2, 4, 5, 6] [3, 7]\n",
      "[1, 2, 5, 6] [3, 4, 7]\n",
      "[1, 3, 4, 5, 6] [2, 7]\n",
      "[1, 3, 4, 6] [2, 5, 7]\n",
      "[1, 3, 5, 6] [2, 4, 7]\n",
      "[1, 4, 5, 6] [2, 3, 7]\n",
      "[2, 3, 4, 5] [1, 6, 7]\n",
      "[2, 3, 4, 6] [1, 5, 7]\n",
      "[2, 3, 5, 6] [1, 4, 7]\n",
      "[2, 4, 5, 6] [1, 3, 7]\n",
      "[3, 4, 5, 6] [1, 2, 7]\n",
      "[3, 5, 6] [1, 2, 4, 7]\n",
      "[4, 5, 6] [1, 2, 3, 7]\n"
     ]
    }
   ],
   "source": [
    "#find out the subset which is having min difference\n",
    "def find_subset_with_diff(number_list,d,output,i):\n",
    "    if sum(output) >= (sum(number_list))/2:\n",
    "        output_2 = [i for i in number_list if i not in output]\n",
    "        print(f\"{output} {output_2}\")\n",
    "        return\n",
    "    if i == len(number_list)-1:\n",
    "        return\n",
    "    #include\n",
    "    find_subset_with_diff(number_list,d,output+[number_list[i]],i+1)\n",
    "    #exclude\n",
    "    find_subset_with_diff(number_list,d,output,i+1)\n",
    "find_subset_with_diff([1,2,3,4,5,6,7],10,[],0)"
   ]
  },
  {
   "cell_type": "code",
   "execution_count": 9,
   "metadata": {},
   "outputs": [
    {
     "name": "stdout",
     "output_type": "stream",
     "text": [
      "[[True, False, False, False, False, False], [True, True, False, False, False, False], [True, True, False, False, True, True]]\n",
      "False\n"
     ]
    }
   ],
   "source": [
    "#find out the subset with given difference using dp\n",
    "\n",
    "\n",
    "def find_subset_with_diff(number_list,d):\n",
    "    t = [[10 for j in range(sum(number_list)+1)]for i in range(len(number_list)+1)]\n",
    "    for i in range(len(number_list)+1):\n",
    "        for j in range(sum(number_list)+1):\n",
    "            if i == 0 or j== 0:\n",
    "                if i == 0:\n",
    "                    t[i][j] = False\n",
    "\n",
    "                if j == 0:\n",
    "                    t[i][j] = True\n",
    "            elif number_list[i-1]<=j:\n",
    "                t[i][j] = t[i-1][j-number_list[i-1]] or t[i-1][j] \n",
    "            else:\n",
    "                t[i][j] = t[i-1][j]\n",
    "    print(t)\n",
    "    print(t[len(number_list)][(d+sum(number_list))//2])\n",
    "            \n",
    "number_list = [1,4]       \n",
    "find_subset_with_diff(number_list,2)"
   ]
  },
  {
   "cell_type": "code",
   "execution_count": 87,
   "metadata": {},
   "outputs": [
    {
     "data": {
      "text/plain": [
       "[[-1, -1, -1, -1, -1, -1],\n",
       " [-1, -1, -1, -1, -1, -1],\n",
       " [-1, -1, -1, -1, -1, -1],\n",
       " [-1, -1, -1, -1, -1, -1]]"
      ]
     },
     "execution_count": 87,
     "metadata": {},
     "output_type": "execute_result"
    }
   ],
   "source": [
    "dp_table"
   ]
  },
  {
   "cell_type": "code",
   "execution_count": null,
   "metadata": {},
   "outputs": [],
   "source": [
    "#target sum by changing the sign\n",
    "#same as find subset with given difference and according to that put the sign"
   ]
  }
 ],
 "metadata": {
  "kernelspec": {
   "display_name": "Python 3",
   "language": "python",
   "name": "python3"
  },
  "language_info": {
   "codemirror_mode": {
    "name": "ipython",
    "version": 3
   },
   "file_extension": ".py",
   "mimetype": "text/x-python",
   "name": "python",
   "nbconvert_exporter": "python",
   "pygments_lexer": "ipython3",
   "version": "3.7.4"
  }
 },
 "nbformat": 4,
 "nbformat_minor": 2
}
