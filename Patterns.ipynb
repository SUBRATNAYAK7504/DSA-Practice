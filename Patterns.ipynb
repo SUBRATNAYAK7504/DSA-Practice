{
 "cells": [
  {
   "cell_type": "markdown",
   "metadata": {},
   "source": [
    "# Code for different type of patterns"
   ]
  },
  {
   "cell_type": "code",
   "execution_count": 1,
   "metadata": {},
   "outputs": [
    {
     "name": "stdout",
     "output_type": "stream",
     "text": [
      "enter the number of rows3\n",
      "123\n",
      "\n",
      "456\n",
      "\n",
      "789\n",
      "\n"
     ]
    }
   ],
   "source": [
    "x = int(input(\"enter the number of rows\"))\n",
    "\n",
    "for i in range(x):\n",
    "    \n",
    "    for j in range(x):\n",
    "       print(j+1+(i*x), end = \"\")\n",
    "    \n",
    "    print(\"\\n\")"
   ]
  },
  {
   "cell_type": "code",
   "execution_count": 5,
   "metadata": {},
   "outputs": [
    {
     "name": "stdout",
     "output_type": "stream",
     "text": [
      "enter the number of rows3\n",
      "1\n",
      "\n",
      "12\n",
      "\n",
      "123\n",
      "\n"
     ]
    }
   ],
   "source": [
    "\n",
    "x = int(input(\"enter the number of rows\"))\n",
    "\n",
    "for i in range(x):\n",
    "    z = i+1\n",
    "    for j in range(1,i+2):\n",
    "        print(j, end = \"\")\n",
    "        z+=1\n",
    "    print(\"\\n\")"
   ]
  },
  {
   "cell_type": "code",
   "execution_count": 6,
   "metadata": {},
   "outputs": [
    {
     "name": "stdout",
     "output_type": "stream",
     "text": [
      "enter the number of rows5\n",
      "1 \n",
      "\n",
      "2 3 \n",
      "\n",
      "3 4 5 \n",
      "\n",
      "4 5 6 7 \n",
      "\n",
      "5 6 7 8 9 \n",
      "\n"
     ]
    }
   ],
   "source": [
    "x = int(input(\"enter the number of rows\"))\n",
    "\n",
    "for i in range(x):\n",
    "    for j in range(i+1):\n",
    "        print(i+j+1, end = \" \")\n",
    "    print(\"\\n\")"
   ]
  },
  {
   "cell_type": "code",
   "execution_count": 8,
   "metadata": {},
   "outputs": [
    {
     "name": "stdout",
     "output_type": "stream",
     "text": [
      "enter the number of rows4\n",
      "1234\n",
      "\n",
      "1234\n",
      "\n",
      "1234\n",
      "\n",
      "1234\n",
      "\n"
     ]
    }
   ],
   "source": [
    "x = int(input(\"enter the number of rows\"))\n",
    "\n",
    "for i in range(x):\n",
    "    for j in range(x):\n",
    "        print(j+1, end = \"\")\n",
    "    print(\"\\n\") "
   ]
  },
  {
   "cell_type": "code",
   "execution_count": 9,
   "metadata": {},
   "outputs": [
    {
     "name": "stdout",
     "output_type": "stream",
     "text": [
      "enter row number3\n",
      "d \n",
      "\n",
      "c d \n",
      "\n",
      "b c d \n",
      "\n"
     ]
    }
   ],
   "source": [
    "x = int(input(\"enter row number\"))\n",
    "\n",
    "for i in range(x):\n",
    "    for j in range(i+1):\n",
    "        print(chr((x-i)+j+97), end = \" \")\n",
    "    print(\"\\n\")\n"
   ]
  },
  {
   "cell_type": "code",
   "execution_count": 10,
   "metadata": {},
   "outputs": [
    {
     "name": "stdout",
     "output_type": "stream",
     "text": [
      "enter number of rows: 5\n",
      "    *\n",
      "\n",
      "   **\n",
      "\n",
      "  ***\n",
      "\n",
      " ****\n",
      "\n",
      "*****\n",
      "\n"
     ]
    }
   ],
   "source": [
    "x = int(input(\"enter number of rows: \"))\n",
    "\n",
    "for i in range(1, x+1):\n",
    "    \n",
    "    for j in range(1, x-i+1):\n",
    "        print(\" \", end = \"\")\n",
    "    \n",
    "    for k in range(1,i+1):\n",
    "        print(\"*\", end = \"\")\n",
    "    \n",
    "    print(\"\\n\")"
   ]
  },
  {
   "cell_type": "code",
   "execution_count": 11,
   "metadata": {},
   "outputs": [
    {
     "name": "stdout",
     "output_type": "stream",
     "text": [
      "enter number of rows: 5\n",
      " 1234\n",
      "\n",
      "  234\n",
      "\n",
      "   34\n",
      "\n",
      "    4\n",
      "\n",
      "     \n",
      "\n"
     ]
    }
   ],
   "source": [
    "x = int(input(\"enter number of rows: \"))\n",
    "\n",
    "for i in range(1, x+1):\n",
    "    \n",
    "    for j in range(1, i+1):\n",
    "        print(\" \", end = \"\")\n",
    "    \n",
    "    for k in range(1,x-i+1):\n",
    "        print(i+k-1, end = \"\")\n",
    "    \n",
    "    print(\"\\n\")"
   ]
  },
  {
   "cell_type": "code",
   "execution_count": 12,
   "metadata": {},
   "outputs": [
    {
     "name": "stdout",
     "output_type": "stream",
     "text": [
      "enter number of rows: 5\n",
      "1 2 3 4 5 5 4 3 2 1 \n",
      "\n",
      "1 2 3 4 * * 4 3 2 1 \n",
      "\n",
      "1 2 3 * * * * 3 2 1 \n",
      "\n",
      "1 2 * * * * * * 2 1 \n",
      "\n",
      "1 * * * * * * * * 1 \n",
      "\n"
     ]
    }
   ],
   "source": [
    "x = int(input(\"enter number of rows: \"))\n",
    "\n",
    "for i in range(1, x+1):\n",
    "    \n",
    "    for j in range(1,x+1+1-i):\n",
    "        print(j, end =\" \")\n",
    "    \n",
    "    for k in range((i-1)*2):\n",
    "        print(\"*\", end = \" \")\n",
    "    \n",
    "    for l in range(x+1-i, 0, -1):\n",
    "        print(l, end =\" \")\n",
    "    \n",
    "    \n",
    "    print(\"\\n\")"
   ]
  },
  {
   "cell_type": "code",
   "execution_count": 13,
   "metadata": {},
   "outputs": [
    {
     "name": "stdout",
     "output_type": "stream",
     "text": [
      "enter number of rows: 5\n",
      "          * * \n",
      "\n",
      "        * * * * \n",
      "\n",
      "      * * * * * * \n",
      "\n",
      "    * * * * * * * * \n",
      "\n",
      "  * * * * * * * * * * \n",
      "\n"
     ]
    }
   ],
   "source": [
    "x = int(input(\"enter number of rows: \"))\n",
    "\n",
    "for i in range(x):\n",
    "    for j in range(x-i):\n",
    "        print(\" \", end = \" \")\n",
    "    \n",
    "    for k in range((i+1)*2):\n",
    "        print(\"*\", end = \" \")\n",
    "    \n",
    "    print(\"\\n\")"
   ]
  },
  {
   "cell_type": "code",
   "execution_count": null,
   "metadata": {},
   "outputs": [],
   "source": []
  }
 ],
 "metadata": {
  "kernelspec": {
   "display_name": "Python 3",
   "language": "python",
   "name": "python3"
  },
  "language_info": {
   "codemirror_mode": {
    "name": "ipython",
    "version": 3
   },
   "file_extension": ".py",
   "mimetype": "text/x-python",
   "name": "python",
   "nbconvert_exporter": "python",
   "pygments_lexer": "ipython3",
   "version": "3.7.4"
  }
 },
 "nbformat": 4,
 "nbformat_minor": 2
}
