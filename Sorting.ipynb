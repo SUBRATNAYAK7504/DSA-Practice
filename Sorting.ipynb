{
 "cells": [
  {
   "cell_type": "markdown",
   "metadata": {},
   "source": [
    "# Selection Sort"
   ]
  },
  {
   "cell_type": "code",
   "execution_count": 12,
   "metadata": {},
   "outputs": [
    {
     "data": {
      "text/plain": [
       "[2, 2, 5, 8, 9]"
      ]
     },
     "execution_count": 12,
     "metadata": {},
     "output_type": "execute_result"
    }
   ],
   "source": [
    "def selection_sort(in_list):\n",
    "    \n",
    "    for i in range(len(in_list)):\n",
    "        min_value = in_list[i]\n",
    "        min_index = i\n",
    "        \n",
    "        for j in range(i+1,len(in_list)):\n",
    "            if in_list[j]<min_value: \n",
    "                min_value = in_list[j]\n",
    "                min_index = j\n",
    "        \n",
    "        in_list[min_index] = in_list[i]\n",
    "        in_list[i] = min_value\n",
    "        \n",
    "        \n",
    "    return in_list\n",
    "\n",
    "selection_sort([8, 5, 2, 2, 9])\n",
    "            "
   ]
  },
  {
   "cell_type": "markdown",
   "metadata": {},
   "source": [
    "# Bubble Sort"
   ]
  },
  {
   "cell_type": "code",
   "execution_count": 26,
   "metadata": {},
   "outputs": [
    {
     "data": {
      "text/plain": [
       "[2, 2, 5, 8, 9]"
      ]
     },
     "execution_count": 26,
     "metadata": {},
     "output_type": "execute_result"
    }
   ],
   "source": [
    "def bubble_sort(in_list):\n",
    "    \n",
    "    for i in range(len(in_list)-1):\n",
    "        swapped = False\n",
    "        \n",
    "        for j in range(0, len(in_list)-1):\n",
    "            if in_list[j] > in_list[j+1]:\n",
    "                temp = in_list[j]\n",
    "                in_list[j] = in_list[j+1]\n",
    "                in_list[j+1] = temp\n",
    "                \n",
    "                swapped = True\n",
    "                \n",
    "        if swapped == False: break\n",
    "\n",
    "    return in_list\n",
    "\n",
    "bubble_sort([8, 5, 2, 2, 9])"
   ]
  },
  {
   "cell_type": "markdown",
   "metadata": {},
   "source": [
    "# Insertion Sort"
   ]
  },
  {
   "cell_type": "code",
   "execution_count": 32,
   "metadata": {},
   "outputs": [
    {
     "data": {
      "text/plain": [
       "[2, 5, 6, 8, 9]"
      ]
     },
     "execution_count": 32,
     "metadata": {},
     "output_type": "execute_result"
    }
   ],
   "source": [
    "#find i sort the previous ones\n",
    "def insertion_sort(in_list):\n",
    "    for i in range(1, len(in_list)):\n",
    "        j = i\n",
    "        \n",
    "        while (j>0):\n",
    "            if in_list[j] < in_list[j-1]: \n",
    "                in_list[j], in_list[j-1] = in_list[j-1], in_list[j]\n",
    "            else:\n",
    "                break\n",
    "                \n",
    "            j = j-1\n",
    "            \n",
    "    return in_list\n",
    "insertion_sort([8, 5, 2, 6, 9])"
   ]
  },
  {
   "cell_type": "markdown",
   "metadata": {},
   "source": [
    "# Quick Sort"
   ]
  },
  {
   "cell_type": "code",
   "execution_count": 26,
   "metadata": {},
   "outputs": [
    {
     "data": {
      "text/plain": [
       "[1, 3, 9]"
      ]
     },
     "execution_count": 26,
     "metadata": {},
     "output_type": "execute_result"
    }
   ],
   "source": [
    "def quick_sort(in_list):\n",
    "    \n",
    "    if len(in_list) == 2:\n",
    "        if in_list[0] > in_list[1]:\n",
    "            temp = in_list[0]\n",
    "            in_list[0] = in_list[1]\n",
    "            in_list[1] = temp\n",
    "            return in_list\n",
    "        else:\n",
    "            return in_list\n",
    "    elif len(in_list) == 1:\n",
    "        return in_list\n",
    "    \n",
    "    pivot = in_list[-1]\n",
    "    left_list = []\n",
    "    right_list = []\n",
    "    \n",
    "    for i in in_list:\n",
    "        if i < pivot:\n",
    "            left_list.append(i)\n",
    "        else:\n",
    "            right_list.append(i)\n",
    "    \n",
    "    left_sort = merge_sort(left_list)\n",
    "    right_sort = merge_sort(right_list)\n",
    "    \n",
    "    return left_sort+right_sort\n",
    "    \n",
    "    \n",
    "in_list = [9,1, 3]\n",
    "quick_sort(in_list)"
   ]
  },
  {
   "cell_type": "markdown",
   "metadata": {},
   "source": [
    "# Merge Sort"
   ]
  },
  {
   "cell_type": "code",
   "execution_count": 18,
   "metadata": {},
   "outputs": [
    {
     "data": {
      "text/plain": [
       "[7, 8, 9, 9, 10, 11]"
      ]
     },
     "execution_count": 18,
     "metadata": {},
     "output_type": "execute_result"
    }
   ],
   "source": [
    "def sort_after_rec_output(left_sort, right_sort):\n",
    "    i, j = 0, 0\n",
    "    out_list = []\n",
    "    \n",
    "    while( i < len(left_sort) and j< len(right_sort) ):\n",
    "        if(left_sort[i] <= right_sort[j]):\n",
    "            out_list.append(left_sort[i])\n",
    "            i = i+1\n",
    "        elif(left_sort[i] >= right_sort[j]): \n",
    "            out_list.append(right_sort[j])\n",
    "            j = j+1\n",
    "            \n",
    "    while( i < len(left_sort) ):\n",
    "        out_list.append(left_sort[i])\n",
    "        i = i+1\n",
    "    \n",
    "    while( j < len(right_sort) ):\n",
    "        out_list.append(right_sort[j])\n",
    "        j = j+1\n",
    "    \n",
    "    return out_list\n",
    "\n",
    "\n",
    "def merge_sort(in_list):\n",
    "\n",
    "    if len(in_list) == 2:\n",
    "        if in_list[0] > in_list[1]:\n",
    "            temp = in_list[0]\n",
    "            in_list[0] = in_list[1]\n",
    "            in_list[1] = temp\n",
    "            return in_list\n",
    "        else:\n",
    "            return in_list\n",
    "    elif len(in_list) == 1:\n",
    "        return in_list\n",
    "    \n",
    "    mid = len(in_list)//2\n",
    "    \n",
    "    \n",
    "    left_sort = merge_sort(in_list[0:mid])\n",
    "    right_sort = merge_sort(in_list[mid:])\n",
    "    \n",
    "    out_list = sort_after_rec_output(left_sort, right_sort)\n",
    "    \n",
    "    return out_list\n",
    "\n",
    "merge_sort([11, 9, 10, 8, 7, 9])"
   ]
  },
  {
   "cell_type": "code",
   "execution_count": 3,
   "metadata": {},
   "outputs": [],
   "source": []
  }
 ],
 "metadata": {
  "kernelspec": {
   "display_name": "Python 3",
   "language": "python",
   "name": "python3"
  },
  "language_info": {
   "codemirror_mode": {
    "name": "ipython",
    "version": 3
   },
   "file_extension": ".py",
   "mimetype": "text/x-python",
   "name": "python",
   "nbconvert_exporter": "python",
   "pygments_lexer": "ipython3",
   "version": "3.7.4"
  }
 },
 "nbformat": 4,
 "nbformat_minor": 2
}
