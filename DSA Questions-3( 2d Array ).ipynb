{
 "cells": [
  {
   "cell_type": "markdown",
   "id": "bda00991",
   "metadata": {},
   "source": [
    "# Implement 2d array in 1d"
   ]
  },
  {
   "cell_type": "code",
   "execution_count": 14,
   "id": "7f36ad18",
   "metadata": {},
   "outputs": [
    {
     "name": "stdout",
     "output_type": "stream",
     "text": [
      "8\n"
     ]
    }
   ],
   "source": [
    "def get_1d_value(matrix, row, col, number_of_cols):\n",
    "    matrix_1d = [matrix[i][j] for i in range(len(matrix)) for j in range(len(matrix))]\n",
    "    return matrix_1d[(row*number_of_cols)+col]\n",
    "    \n",
    "\n",
    "matrix = [[1, 2, 3],\n",
    "          [4, 5, 6],\n",
    "          [7, 8, 9]]\n",
    "\n",
    "print(get_1d_value(matrix, 2, 1, len(matrix[0])))"
   ]
  },
  {
   "cell_type": "markdown",
   "id": "42800040",
   "metadata": {},
   "source": [
    "# Create 2d Array by taking user input and search the value given by user"
   ]
  },
  {
   "cell_type": "code",
   "execution_count": 19,
   "id": "a8d7ed15",
   "metadata": {},
   "outputs": [
    {
     "name": "stdout",
     "output_type": "stream",
     "text": [
      "Enter number of rows for your matrix: 3\n",
      "Enter number of columns for your matrix: 3\n",
      "Please enter the value for row: 1 and column: 1: 1\n",
      "Please enter the value for row: 1 and column: 2: 2\n",
      "Please enter the value for row: 1 and column: 3: 3\n",
      "Please enter the value for row: 2 and column: 1: 4\n",
      "Please enter the value for row: 2 and column: 2: 5\n",
      "Please enter the value for row: 2 and column: 3: 6\n",
      "Please enter the value for row: 3 and column: 1: 7\n",
      "Please enter the value for row: 3 and column: 2: 8\n",
      "Please enter the value for row: 3 and column: 3: 9\n",
      "Enter the value needs to be searched: 9\n",
      "True\n"
     ]
    }
   ],
   "source": [
    "def create_2d_array():\n",
    "    rows = int(input(\"Enter number of rows for your matrix: \"))\n",
    "    cols = int(input(\"Enter number of columns for your matrix: \"))\n",
    "\n",
    "    matrix = []\n",
    "    \n",
    "    for i in range(rows):\n",
    "        z = []\n",
    "        for j in range(cols):\n",
    "            val = int(input(f\"Please enter the value for row: {i+1} and column: {j+1}: \"))\n",
    "            z.append(val)\n",
    "        matrix.append(z)\n",
    "        \n",
    "    return matrix\n",
    "\n",
    "def search_val_in_matrix(matrix, val):\n",
    "    for i in matrix:\n",
    "        for j in range(len(i)):\n",
    "            if i[j] == val: return True\n",
    "    \n",
    "    return False\n",
    "    \n",
    "matrix = create_2d_array()\n",
    "val = int(input(\"Enter the value needs to be searched: \"))\n",
    "print(search_val_in_matrix(matrix, val))"
   ]
  },
  {
   "cell_type": "markdown",
   "id": "beae22df",
   "metadata": {},
   "source": [
    "# Create a function which will give row wise or column wise sum "
   ]
  },
  {
   "cell_type": "code",
   "execution_count": 26,
   "id": "949cdfee",
   "metadata": {},
   "outputs": [
    {
     "name": "stdout",
     "output_type": "stream",
     "text": [
      "[10, 22, 34]\n"
     ]
    }
   ],
   "source": [
    "#sum could be \"largest\", \"smallest\", \"all\"\n",
    "def find_sum(matrix, add_direction = \"row\", sum_type = \"largest\"):\n",
    "    sums = []\n",
    "    if add_direction == \"row\":\n",
    "        uppper_val = len(matrix)\n",
    "        lower_val = len(matrix[0])\n",
    "    elif add_direction == \"column\":\n",
    "        uppper_val = len(matrix[0])\n",
    "        lower_val = len(matrix)\n",
    "    else:\n",
    "        raise Exception(\"Invalid type given\")\n",
    "        \n",
    "    for i in range(uppper_val):\n",
    "        sum = 0\n",
    "        for j in range(lower_val):\n",
    "            if add_direction == \"row\":\n",
    "                sum += matrix[i][j]\n",
    "            elif add_direction == \"column\":\n",
    "                sum += matrix[j][i]\n",
    "          \n",
    "        sums.append(sum)\n",
    "        \n",
    "    if sum_type == \"largest\":\n",
    "        return max(sums)\n",
    "    if sum_type == \"smallest\":\n",
    "        return min(sums)\n",
    "    if sum_type == \"all\":\n",
    "        return sums\n",
    "        \n",
    "    \n",
    "matrix = [[1, 2, 3, 4],\n",
    "          [4, 5, 6, 7],\n",
    "          [7, 8, 9, 10]]\n",
    "\n",
    "print(find_sum(matrix, \"row\", \"all\"))"
   ]
  },
  {
   "cell_type": "markdown",
   "id": "f6d30913",
   "metadata": {},
   "source": [
    "# Wave print"
   ]
  },
  {
   "cell_type": "code",
   "execution_count": 34,
   "id": "336adcd1",
   "metadata": {},
   "outputs": [
    {
     "name": "stdout",
     "output_type": "stream",
     "text": [
      "1 4 7 8 5 2 3 6 9 10 7 4 "
     ]
    }
   ],
   "source": [
    "def wave_print(matrix):\n",
    "    Reverse_Flag = False\n",
    "    \n",
    "    for i in range(len(matrix[0])):\n",
    "        if Reverse_Flag:\n",
    "            for j in range(len(matrix)-1,-1,-1):\n",
    "                print(matrix[j][i], end = \" \")\n",
    "        else:\n",
    "            for j in range(len(matrix)):\n",
    "                print(matrix[j][i], end = \" \")\n",
    "                \n",
    "        Reverse_Flag = not(Reverse_Flag)\n",
    "    \n",
    "    \n",
    "matrix = [[1, 2, 3, 4],\n",
    "          [4, 5, 6, 7],\n",
    "          [7, 8, 9, 10]]\n",
    "\n",
    "wave_print(matrix)"
   ]
  },
  {
   "cell_type": "markdown",
   "id": "09bf512c",
   "metadata": {},
   "source": [
    "# Spiral Print"
   ]
  },
  {
   "cell_type": "code",
   "execution_count": 36,
   "id": "171f4d72",
   "metadata": {},
   "outputs": [
    {
     "name": "stdout",
     "output_type": "stream",
     "text": [
      "1\n",
      "2\n",
      "3\n",
      "10\n",
      "20\n",
      "22\n",
      "24\n",
      "26\n",
      "126\n",
      "125\n",
      "112\n",
      "109\n",
      "102\n",
      "100\n",
      "7\n",
      "4\n",
      "5\n",
      "6\n",
      "11\n",
      "23\n",
      "25\n",
      "12\n",
      "9\n",
      "8\n"
     ]
    }
   ],
   "source": [
    "def spiral_print(matrix):\n",
    "    left, right, top, bottom = 0, len(matrix[0])-1, 0, len(matrix)-1\n",
    "    \n",
    "    while(True):\n",
    "        \n",
    "        for i in range(left, right+1):\n",
    "            print(matrix[top][i])\n",
    "        top += 1\n",
    "        \n",
    "        if top > bottom:\n",
    "            break\n",
    "        \n",
    "        for i in range(top, bottom+1):\n",
    "            print(matrix[i][right])\n",
    "        right -= 1\n",
    "        \n",
    "        if left > right:\n",
    "            break\n",
    "        \n",
    "        \n",
    "        for i in range(right, left-1, -1):\n",
    "            print(matrix[bottom][i])\n",
    "        bottom -=1\n",
    "        \n",
    "        if top > bottom:\n",
    "            break\n",
    "        \n",
    "        for i in range(bottom, top-1, -1):\n",
    "            print(matrix[i][left])\n",
    "        left  += 1\n",
    "        \n",
    "        if left > right:\n",
    "            break\n",
    "    \n",
    "    \n",
    "matrix = [[1, 2, 3, 10, 20, 22],\n",
    "          [4, 5, 6, 11, 23, 24],\n",
    "          [7, 8, 9, 12, 25, 26],\n",
    "          [100, 102, 109, 112, 125, 126]]\n",
    "\n",
    "\n",
    "spiral_print(matrix)"
   ]
  },
  {
   "cell_type": "code",
   "execution_count": 1,
   "id": "4eb56e80",
   "metadata": {},
   "outputs": [
    {
     "ename": "SyntaxError",
     "evalue": "invalid syntax (<ipython-input-1-477e105d2384>, line 1)",
     "output_type": "error",
     "traceback": [
      "\u001b[0;36m  File \u001b[0;32m\"<ipython-input-1-477e105d2384>\"\u001b[0;36m, line \u001b[0;32m1\u001b[0m\n\u001b[0;31m    1.i = 0 j = 0, 1, 2, 3     (1,2,3,10)\u001b[0m\n\u001b[0m      ^\u001b[0m\n\u001b[0;31mSyntaxError\u001b[0m\u001b[0;31m:\u001b[0m invalid syntax\n"
     ]
    }
   ],
   "source": [
    "1.i = 0 j = 0, 1, 2, 3     (1,2,3,10)\n",
    "2.i = 1, 2  j = 3          (11, 12)\n",
    "3.i = 2, j = 2, 1, 0        (9,8,7)\n",
    "4.i = 1, j = 0              (4)\n",
    "5.i = 1  j = 1, 2           (5,6)"
   ]
  },
  {
   "cell_type": "code",
   "execution_count": null,
   "id": "2dbdda88",
   "metadata": {},
   "outputs": [],
   "source": [
    "1 1 1 1 1 1 1 1 \n",
    "1 1 1 1 1 1 1 1\n",
    "1 1 1 1 1 1 1 1\n",
    "1 1 1 1 1 1 1 1"
   ]
  }
 ],
 "metadata": {
  "kernelspec": {
   "display_name": "Python 3",
   "language": "python",
   "name": "python3"
  },
  "language_info": {
   "codemirror_mode": {
    "name": "ipython",
    "version": 3
   },
   "file_extension": ".py",
   "mimetype": "text/x-python",
   "name": "python",
   "nbconvert_exporter": "python",
   "pygments_lexer": "ipython3",
   "version": "3.7.4"
  }
 },
 "nbformat": 4,
 "nbformat_minor": 5
}
