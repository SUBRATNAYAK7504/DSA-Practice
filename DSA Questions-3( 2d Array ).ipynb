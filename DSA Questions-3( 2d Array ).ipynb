{
 "cells": [
  {
   "cell_type": "markdown",
   "id": "bda00991",
   "metadata": {},
   "source": [
    "# Print list in a form of matrix"
   ]
  },
  {
   "cell_type": "code",
   "execution_count": 30,
   "id": "0cb98143",
   "metadata": {},
   "outputs": [],
   "source": [
    "#print a list in form of matrix\n",
    "def print_matrix(x, column_size, input_type = \"list_of_list\"):\n",
    "    if input_type == \"list\":\n",
    "        for i in range(len(x)):\n",
    "            if i%column_size == 0:\n",
    "                print(\"\\n\")\n",
    "            print(x[i], end = \" \")\n",
    "            \n",
    "    elif input_type == \"list_of_list\":\n",
    "        for i in x:\n",
    "            print(i, end = \"\\n\")"
   ]
  },
  {
   "cell_type": "markdown",
   "id": "11f2bcfc",
   "metadata": {},
   "source": [
    "# Implement 2d array in 1d"
   ]
  },
  {
   "cell_type": "code",
   "execution_count": 14,
   "id": "7f36ad18",
   "metadata": {},
   "outputs": [
    {
     "name": "stdout",
     "output_type": "stream",
     "text": [
      "8\n"
     ]
    }
   ],
   "source": [
    "def get_1d_value(matrix, row, col, number_of_cols):\n",
    "    matrix_1d = [matrix[i][j] for i in range(len(matrix)) for j in range(len(matrix))]\n",
    "    return matrix_1d[(row*number_of_cols)+col]\n",
    "    \n",
    "\n",
    "matrix = [[1, 2, 3],\n",
    "          [4, 5, 6],\n",
    "          [7, 8, 9]]\n",
    "\n",
    "print(get_1d_value(matrix, 2, 1, len(matrix[0])))"
   ]
  },
  {
   "cell_type": "markdown",
   "id": "42800040",
   "metadata": {},
   "source": [
    "# Create 2d Array by taking user input and search the value given by user"
   ]
  },
  {
   "cell_type": "code",
   "execution_count": 19,
   "id": "a8d7ed15",
   "metadata": {},
   "outputs": [
    {
     "name": "stdout",
     "output_type": "stream",
     "text": [
      "Enter number of rows for your matrix: 3\n",
      "Enter number of columns for your matrix: 3\n",
      "Please enter the value for row: 1 and column: 1: 1\n",
      "Please enter the value for row: 1 and column: 2: 2\n",
      "Please enter the value for row: 1 and column: 3: 3\n",
      "Please enter the value for row: 2 and column: 1: 4\n",
      "Please enter the value for row: 2 and column: 2: 5\n",
      "Please enter the value for row: 2 and column: 3: 6\n",
      "Please enter the value for row: 3 and column: 1: 7\n",
      "Please enter the value for row: 3 and column: 2: 8\n",
      "Please enter the value for row: 3 and column: 3: 9\n",
      "Enter the value needs to be searched: 9\n",
      "True\n"
     ]
    }
   ],
   "source": [
    "def create_2d_array():\n",
    "    rows = int(input(\"Enter number of rows for your matrix: \"))\n",
    "    cols = int(input(\"Enter number of columns for your matrix: \"))\n",
    "\n",
    "    matrix = []\n",
    "    \n",
    "    for i in range(rows):\n",
    "        z = []\n",
    "        for j in range(cols):\n",
    "            val = int(input(f\"Please enter the value for row: {i+1} and column: {j+1}: \"))\n",
    "            z.append(val)\n",
    "        matrix.append(z)\n",
    "        \n",
    "    return matrix\n",
    "\n",
    "def search_val_in_matrix(matrix, val):\n",
    "    for i in matrix:\n",
    "        for j in range(len(i)):\n",
    "            if i[j] == val: return True\n",
    "    \n",
    "    return False\n",
    "    \n",
    "matrix = create_2d_array()\n",
    "val = int(input(\"Enter the value needs to be searched: \"))\n",
    "print(search_val_in_matrix(matrix, val))"
   ]
  },
  {
   "cell_type": "markdown",
   "id": "beae22df",
   "metadata": {},
   "source": [
    "# Create a function which will give row wise or column wise sum "
   ]
  },
  {
   "cell_type": "code",
   "execution_count": 26,
   "id": "949cdfee",
   "metadata": {},
   "outputs": [
    {
     "name": "stdout",
     "output_type": "stream",
     "text": [
      "[10, 22, 34]\n"
     ]
    }
   ],
   "source": [
    "#sum could be \"largest\", \"smallest\", \"all\"\n",
    "def find_sum(matrix, add_direction = \"row\", sum_type = \"largest\"):\n",
    "    sums = []\n",
    "    if add_direction == \"row\":\n",
    "        uppper_val = len(matrix)\n",
    "        lower_val = len(matrix[0])\n",
    "    elif add_direction == \"column\":\n",
    "        uppper_val = len(matrix[0])\n",
    "        lower_val = len(matrix)\n",
    "    else:\n",
    "        raise Exception(\"Invalid type given\")\n",
    "        \n",
    "    for i in range(uppper_val):\n",
    "        sum = 0\n",
    "        for j in range(lower_val):\n",
    "            if add_direction == \"row\":\n",
    "                sum += matrix[i][j]\n",
    "            elif add_direction == \"column\":\n",
    "                sum += matrix[j][i]\n",
    "          \n",
    "        sums.append(sum)\n",
    "        \n",
    "    if sum_type == \"largest\":\n",
    "        return max(sums)\n",
    "    if sum_type == \"smallest\":\n",
    "        return min(sums)\n",
    "    if sum_type == \"all\":\n",
    "        return sums\n",
    "        \n",
    "    \n",
    "matrix = [[1, 2, 3, 4],\n",
    "          [4, 5, 6, 7],\n",
    "          [7, 8, 9, 10]]\n",
    "\n",
    "print(find_sum(matrix, \"row\", \"all\"))"
   ]
  },
  {
   "cell_type": "markdown",
   "id": "f6d30913",
   "metadata": {},
   "source": [
    "# Wave print"
   ]
  },
  {
   "cell_type": "code",
   "execution_count": 34,
   "id": "336adcd1",
   "metadata": {},
   "outputs": [
    {
     "name": "stdout",
     "output_type": "stream",
     "text": [
      "1 4 7 8 5 2 3 6 9 10 7 4 "
     ]
    }
   ],
   "source": [
    "def wave_print(matrix):\n",
    "    Reverse_Flag = False\n",
    "    \n",
    "    for i in range(len(matrix[0])):\n",
    "        if Reverse_Flag:\n",
    "            for j in range(len(matrix)-1,-1,-1):\n",
    "                print(matrix[j][i], end = \" \")\n",
    "        else:\n",
    "            for j in range(len(matrix)):\n",
    "                print(matrix[j][i], end = \" \")\n",
    "                \n",
    "        Reverse_Flag = not(Reverse_Flag)\n",
    "    \n",
    "    \n",
    "matrix = [[1, 2, 3, 4],\n",
    "          [4, 5, 6, 7],\n",
    "          [7, 8, 9, 10]]\n",
    "\n",
    "wave_print(matrix)"
   ]
  },
  {
   "cell_type": "markdown",
   "id": "09bf512c",
   "metadata": {},
   "source": [
    "# Spiral Print"
   ]
  },
  {
   "cell_type": "code",
   "execution_count": 9,
   "id": "171f4d72",
   "metadata": {},
   "outputs": [
    {
     "name": "stdout",
     "output_type": "stream",
     "text": [
      "\n",
      "\n",
      "1 2 3 10 20 22 \n",
      "\n",
      "24 26 126 125 112 109 \n",
      "\n",
      "102 100 7 4 5 6 \n",
      "\n",
      "11 23 25 12 9 8 "
     ]
    }
   ],
   "source": [
    "\n",
    "def spiral_print(matrix):\n",
    "    left, right, top, bottom = 0, len(matrix[0])-1, 0, len(matrix)-1\n",
    "    out_list = []\n",
    "    while(True):\n",
    "        \n",
    "        for i in range(left, right+1):\n",
    "            out_list.append(matrix[top][i])\n",
    "        top += 1\n",
    "        \n",
    "        if top > bottom:\n",
    "            break\n",
    "        \n",
    "        for i in range(top, bottom+1):\n",
    "            out_list.append(matrix[i][right])\n",
    "        right -= 1\n",
    "        \n",
    "        if left > right:\n",
    "            break\n",
    "        \n",
    "        \n",
    "        for i in range(right, left-1, -1):\n",
    "            out_list.append(matrix[bottom][i])\n",
    "        bottom -=1\n",
    "        \n",
    "        if top > bottom:\n",
    "            break\n",
    "        \n",
    "        for i in range(bottom, top-1, -1):\n",
    "            out_list.append(matrix[i][left])\n",
    "        left  += 1\n",
    "        \n",
    "        if left > right:\n",
    "            break\n",
    "    \n",
    "    print_matrix(out_list, len(matrix[0]))\n",
    "    \n",
    "    \n",
    "matrix = [[1, 2, 3, 10, 20, 22],\n",
    "          [4, 5, 6, 11, 23, 24],\n",
    "          [7, 8, 9, 12, 25, 26],\n",
    "          [100, 102, 109, 112, 125, 126]]\n",
    "\n",
    "\n",
    "spiral_print(matrix)"
   ]
  },
  {
   "cell_type": "markdown",
   "id": "282277fa",
   "metadata": {},
   "source": [
    "# Rotate Matrix by any degree moduled by 90"
   ]
  },
  {
   "cell_type": "code",
   "execution_count": 31,
   "id": "2dbdda88",
   "metadata": {},
   "outputs": [
    {
     "name": "stdout",
     "output_type": "stream",
     "text": [
      "[7, 4, 1]\n",
      "[8, 5, 2]\n",
      "[9, 6, 3]\n",
      "[13, 12, 11]\n"
     ]
    }
   ],
   "source": [
    "def rotate_matrix(matrix, degree):\n",
    "    if degree%90 != 0:\n",
    "        print(\"Please give the degree which is divisible by 90\")\n",
    "    \n",
    "    for k in range((degree//90)):\n",
    "        out_matrix = [[\"N/A\" for j in range(len(matrix))]for i in range(len(matrix[0]))]\n",
    "        \n",
    "        for i in range(len(matrix)): 0\n",
    "            for j in range(len(matrix[0])): \n",
    "                out_index_row = j\n",
    "                out_index_column = (len(matrix)-1)-i \n",
    "                \n",
    "                out_matrix[out_index_row][out_index_column] = matrix[i][j]\n",
    "                \n",
    "        matrix = out_matrix\n",
    "      \n",
    "    return out_matrix\n",
    "    \n",
    "\n",
    "matrix = [[1, 2, 3, 11],\n",
    "          [4, 5, 6, 12],\n",
    "          [7, 8, 9, 13]]\n",
    "\n",
    "print_matrix(rotate_matrix(matrix, 90), len(matrix[0]), \"list_of_list\")"
   ]
  },
  {
   "cell_type": "markdown",
   "id": "6927c3c5",
   "metadata": {},
   "source": [
    "# Implement Binary search in a fully sorted matrix "
   ]
  },
  {
   "cell_type": "code",
   "execution_count": 63,
   "id": "24930626",
   "metadata": {},
   "outputs": [
    {
     "name": "stdout",
     "output_type": "stream",
     "text": [
      "False\n"
     ]
    }
   ],
   "source": [
    "def binary_search_in_sorted_matrix(matrix, element):\n",
    "    start = 0\n",
    "    end = (len(matrix)*len(matrix[0]))-1\n",
    "    mid = (start+end)//2\n",
    "    \n",
    "    while(start<=end):\n",
    "        \n",
    "        row = mid//len(matrix)\n",
    "        col = mid%len(matrix)\n",
    "        \n",
    "        if matrix[row][col] == element:\n",
    "            return True\n",
    "        if matrix[row][col] > element:\n",
    "            end = mid - 1\n",
    "        if matrix[row][col] < element:\n",
    "            start = mid + 1\n",
    "        \n",
    "        mid = (start+end)//2\n",
    "\n",
    "    return False\n",
    "\n",
    "matrix = [[1, 2, 3],\n",
    "          [4, 5, 6],\n",
    "          [7, 8, 9]]\n",
    "print(binary_search_in_sorted_matrix(matrix, 10))"
   ]
  },
  {
   "cell_type": "markdown",
   "id": "a60d8903",
   "metadata": {},
   "source": [
    "# Implement Binary Search in row and col wise sorted matrix"
   ]
  },
  {
   "cell_type": "code",
   "execution_count": 73,
   "id": "0df33fd4",
   "metadata": {},
   "outputs": [
    {
     "name": "stdout",
     "output_type": "stream",
     "text": [
      "False\n"
     ]
    }
   ],
   "source": [
    "def binary_search_in_row_col_wise_sorted_matrix(matrix, element):\n",
    "    row = 0\n",
    "    col = len(matrix[0])-1\n",
    "    \n",
    "    while(( row < len(matrix) ) and (col >= 0)):\n",
    "        if matrix[row][col] == element: return True\n",
    "        \n",
    "        if element > matrix[row][col]: \n",
    "            row = row+1\n",
    "        elif element < matrix[row][col]: \n",
    "            col = col-1\n",
    "            \n",
    "    return False\n",
    "\n",
    "matrix = [[1, 10, 15],\n",
    "          [4, 25, 36],\n",
    "          [7, 28, 39]]\n",
    "print(binary_search_in_row_col_wise_sorted_matrix(matrix, 38))"
   ]
  },
  {
   "cell_type": "code",
   "execution_count": 15,
   "id": "637e4462",
   "metadata": {},
   "outputs": [
    {
     "name": "stdout",
     "output_type": "stream",
     "text": [
      "1 4 7 8 5 2 3 6 9 10 7 4 "
     ]
    }
   ],
   "source": [
    "def wave_print(matrix):\n",
    "    Reverse_Flag = False\n",
    "    \n",
    "    for i in range(len(matrix[0])):\n",
    "        if Reverse_Flag:\n",
    "            for j in range(len(matrix)-1,-1,-1): \n",
    "                print(matrix[j][i], end = \" \")\n",
    "        else:\n",
    "            for j in range(len(matrix)): \n",
    "                print(matrix[j][i], end = \" \") \n",
    "                \n",
    "        Reverse_Flag = not(Reverse_Flag)\n",
    "    \n",
    "    \n",
    "matrix = [[1, 2, 3, 4],\n",
    "          [4, 5, 6, 7],\n",
    "          [7, 8, 9, 10]]\n",
    "\n",
    "wave_print(matrix)"
   ]
  },
  {
   "cell_type": "code",
   "execution_count": null,
   "id": "858e7fab",
   "metadata": {},
   "outputs": [],
   "source": []
  }
 ],
 "metadata": {
  "kernelspec": {
   "display_name": "Python 3",
   "language": "python",
   "name": "python3"
  },
  "language_info": {
   "codemirror_mode": {
    "name": "ipython",
    "version": 3
   },
   "file_extension": ".py",
   "mimetype": "text/x-python",
   "name": "python",
   "nbconvert_exporter": "python",
   "pygments_lexer": "ipython3",
   "version": "3.7.4"
  }
 },
 "nbformat": 4,
 "nbformat_minor": 5
}
