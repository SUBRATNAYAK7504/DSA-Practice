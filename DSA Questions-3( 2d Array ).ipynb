{
 "cells": [
  {
   "cell_type": "markdown",
   "id": "bda00991",
   "metadata": {},
   "source": [
    "# Implement 2d array in 1d"
   ]
  },
  {
   "cell_type": "code",
   "execution_count": 14,
   "id": "7f36ad18",
   "metadata": {},
   "outputs": [
    {
     "name": "stdout",
     "output_type": "stream",
     "text": [
      "8\n"
     ]
    }
   ],
   "source": [
    "def get_1d_value(matrix, row, col, number_of_cols):\n",
    "    matrix_1d = [matrix[i][j] for i in range(len(matrix)) for j in range(len(matrix))]\n",
    "    return matrix_1d[(row*number_of_cols)+col]\n",
    "    \n",
    "\n",
    "matrix = [[1, 2, 3],\n",
    "          [4, 5, 6],\n",
    "          [7, 8, 9]]\n",
    "\n",
    "print(get_1d_value(matrix, 2, 1, len(matrix[0])))"
   ]
  },
  {
   "cell_type": "markdown",
   "id": "ee19ff1f",
   "metadata": {},
   "source": [
    "# Create 2d Array by taking user input and search the value given by user"
   ]
  },
  {
   "cell_type": "code",
   "execution_count": 19,
   "id": "a15d7675",
   "metadata": {},
   "outputs": [
    {
     "name": "stdout",
     "output_type": "stream",
     "text": [
      "Enter number of rows for your matrix: 3\n",
      "Enter number of columns for your matrix: 3\n",
      "Please enter the value for row: 1 and column: 1: 1\n",
      "Please enter the value for row: 1 and column: 2: 2\n",
      "Please enter the value for row: 1 and column: 3: 3\n",
      "Please enter the value for row: 2 and column: 1: 4\n",
      "Please enter the value for row: 2 and column: 2: 5\n",
      "Please enter the value for row: 2 and column: 3: 6\n",
      "Please enter the value for row: 3 and column: 1: 7\n",
      "Please enter the value for row: 3 and column: 2: 8\n",
      "Please enter the value for row: 3 and column: 3: 9\n",
      "Enter the value needs to be searched: 9\n",
      "True\n"
     ]
    }
   ],
   "source": [
    "def create_2d_array():\n",
    "    rows = int(input(\"Enter number of rows for your matrix: \"))\n",
    "    cols = int(input(\"Enter number of columns for your matrix: \"))\n",
    "\n",
    "    matrix = []\n",
    "    \n",
    "    for i in range(rows):\n",
    "        z = []\n",
    "        for j in range(cols):\n",
    "            val = int(input(f\"Please enter the value for row: {i+1} and column: {j+1}: \"))\n",
    "            z.append(val)\n",
    "        matrix.append(z)\n",
    "        \n",
    "    return matrix\n",
    "\n",
    "def search_val_in_matrix(matrix, val):\n",
    "    for i in matrix:\n",
    "        for j in range(len(i)):\n",
    "            if i[j] == val: return True\n",
    "    \n",
    "    return False\n",
    "    \n",
    "matrix = create_2d_array()\n",
    "val = int(input(\"Enter the value needs to be searched: \"))\n",
    "print(search_val_in_matrix(matrix, val))"
   ]
  },
  {
   "cell_type": "code",
   "execution_count": null,
   "id": "1d027833",
   "metadata": {},
   "outputs": [],
   "source": []
  }
 ],
 "metadata": {
  "kernelspec": {
   "display_name": "Python 3",
   "language": "python",
   "name": "python3"
  },
  "language_info": {
   "codemirror_mode": {
    "name": "ipython",
    "version": 3
   },
   "file_extension": ".py",
   "mimetype": "text/x-python",
   "name": "python",
   "nbconvert_exporter": "python",
   "pygments_lexer": "ipython3",
   "version": "3.7.4"
  }
 },
 "nbformat": 4,
 "nbformat_minor": 5
}
