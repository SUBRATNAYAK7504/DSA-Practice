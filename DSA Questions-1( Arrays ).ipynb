{
 "cells": [
  {
   "cell_type": "markdown",
   "id": "d49be5c6",
   "metadata": {},
   "source": [
    "# Reverse An Array"
   ]
  },
  {
   "cell_type": "code",
   "execution_count": 4,
   "id": "dcf3fa84",
   "metadata": {},
   "outputs": [
    {
     "data": {
      "text/plain": [
       "[5, 5, 4, 3, 5, 2, 1]"
      ]
     },
     "execution_count": 4,
     "metadata": {},
     "output_type": "execute_result"
    }
   ],
   "source": [
    "def reverse_array(array):\n",
    "    s = 0\n",
    "    e = len(array)-1\n",
    "    \n",
    "    while(s<e):\n",
    "        array[s], array[e] = array[e], array[s]\n",
    "        s += 1\n",
    "        e -= 1\n",
    "    return array\n",
    "reverse_array([1,2,5,3,4,5,5])"
   ]
  },
  {
   "cell_type": "markdown",
   "id": "e0122079",
   "metadata": {},
   "source": [
    "# Merge Two Sorted Arrays"
   ]
  },
  {
   "cell_type": "code",
   "execution_count": 16,
   "id": "a2960904",
   "metadata": {},
   "outputs": [
    {
     "data": {
      "text/plain": [
       "[1, 2, 3, 4, 5, 5, 8]"
      ]
     },
     "execution_count": 16,
     "metadata": {},
     "output_type": "execute_result"
    }
   ],
   "source": [
    "def compare_values(arr1, arr2, i, j):\n",
    "    val = []\n",
    "    if arr1[i] < arr2[j]:\n",
    "        val.append(arr1[i])\n",
    "        i = i+1\n",
    "    elif arr1[i] > arr2[j]:\n",
    "        val.append(arr2[j])\n",
    "        j = j+1\n",
    "    elif arr1[i] == arr2[j]:\n",
    "        val.append(arr1[i])\n",
    "        val.append(arr2[j])\n",
    "        i = i+1\n",
    "        j = j+1\n",
    "        \n",
    "    return i, j, val \n",
    "        \n",
    "def merge_sorted_arrays(arr1, arr2):\n",
    "    out_arr = []\n",
    "    i = 0\n",
    "    j = 0\n",
    "    \n",
    "    while( ( i < len(arr1) ) and ( j < len(arr2) )):\n",
    "        i, j, val = compare_values(arr1, arr2, i, j)\n",
    "        out_arr.extend(val)\n",
    "    \n",
    "    while( ( i < len(arr1) ) ):\n",
    "        out_arr.append(arr1[i])\n",
    "        i = i+1\n",
    "\n",
    "    while( ( j < len(arr2) ) ):\n",
    "        out_arr.append(arr2[j])\n",
    "        j = j+1\n",
    "    \n",
    "    return out_arr\n",
    "\n",
    "arr1 = [1,5,8]\n",
    "arr2 = [2,3,4,5]\n",
    "merge_sorted_arrays(arr1, arr2)"
   ]
  },
  {
   "cell_type": "markdown",
   "id": "b9f37f32",
   "metadata": {},
   "source": [
    "# Move Zero"
   ]
  },
  {
   "cell_type": "code",
   "execution_count": 17,
   "id": "a2450537",
   "metadata": {},
   "outputs": [
    {
     "data": {
      "text/plain": [
       "[1, 2, 3, 4, 0, 0]"
      ]
     },
     "execution_count": 17,
     "metadata": {},
     "output_type": "execute_result"
    }
   ],
   "source": [
    "def move_zero(arr):\n",
    "    i = 0\n",
    "    \n",
    "    for j in range(len(arr)):\n",
    "        if arr[j] != 0:\n",
    "            arr[j], arr[i] = arr[i], arr[j]\n",
    "            i +=1\n",
    "    return arr\n",
    "\n",
    "arr = [1,2,0,0,3,4]\n",
    "move_zero(arr)"
   ]
  },
  {
   "cell_type": "markdown",
   "id": "81e16951",
   "metadata": {},
   "source": [
    "# Rotate Array"
   ]
  },
  {
   "cell_type": "code",
   "execution_count": 6,
   "id": "462ac133",
   "metadata": {},
   "outputs": [
    {
     "data": {
      "text/plain": [
       "[5, 5, 1, 2, 3, 4]"
      ]
     },
     "execution_count": 6,
     "metadata": {},
     "output_type": "execute_result"
    }
   ],
   "source": [
    "def rotate_array(arr, k):\n",
    "    \n",
    "    out_arr = [0]*len(arr)\n",
    "    \n",
    "    for i in range(len(arr)):\n",
    "        out_arr[( (i+k)%len(arr) )] = arr[i]\n",
    "\n",
    "    return out_arr\n",
    "\n",
    "arr = [1,2,3,4,5,5]\n",
    "k =2\n",
    "rotate_array(arr, k)"
   ]
  },
  {
   "cell_type": "markdown",
   "id": "bfcf4e02",
   "metadata": {},
   "source": [
    "# Check Sorted and rotated or not"
   ]
  },
  {
   "cell_type": "code",
   "execution_count": 21,
   "id": "c8c41e99",
   "metadata": {},
   "outputs": [
    {
     "data": {
      "text/plain": [
       "True"
      ]
     },
     "execution_count": 21,
     "metadata": {},
     "output_type": "execute_result"
    }
   ],
   "source": [
    "def check_sort_and_rot(arr):\n",
    "    pair_count = 0\n",
    "    \n",
    "    for i in range(len(arr)-1):\n",
    "        if arr[i] > arr[i+1]:\n",
    "            pair_count +=1\n",
    "            \n",
    "    if pair_count <=1 and arr[-1] <= arr[0]:\n",
    "        return True\n",
    "    else:\n",
    "        return False\n",
    "    \n",
    "arr = [1,1,1]\n",
    "check_sort_and_rot(arr)"
   ]
  },
  {
   "cell_type": "markdown",
   "id": "5e4019d4",
   "metadata": {},
   "source": [
    "# Sum Of Two Arrays"
   ]
  },
  {
   "cell_type": "raw",
   "id": "574b37ec",
   "metadata": {},
   "source": [
    "example:\n",
    "[1, 2, 3]\n",
    "   [3, 9]\n",
    "__________\n",
    " 1  6  2"
   ]
  },
  {
   "cell_type": "code",
   "execution_count": 51,
   "id": "e1a1313e",
   "metadata": {},
   "outputs": [
    {
     "data": {
      "text/plain": [
       "162"
      ]
     },
     "execution_count": 51,
     "metadata": {},
     "output_type": "execute_result"
    }
   ],
   "source": [
    "def sum_arr(arr1, arr2):\n",
    "    \n",
    "    i = len(arr1)-1\n",
    "    j = len(arr2)-1\n",
    "    carry = 0\n",
    "    \n",
    "    out = \"\"\n",
    "    \n",
    "    while(i >= 0 and j >= 0):\n",
    "        \n",
    "        o = arr1[i]+arr2[j]+carry\n",
    "        \n",
    "        if( len(str(o))>1 ):\n",
    "            out += str(str(o)[-1])\n",
    "            carry = int(str(o)[0])\n",
    "        else:\n",
    "            out += str(o)\n",
    "            carry = 0\n",
    "        \n",
    "        i -= 1\n",
    "        j -= 1\n",
    "        \n",
    "    while(i >= 0):\n",
    "        o = arr1[i]+carry\n",
    "        \n",
    "        if( len(str(o))>1 ):\n",
    "            out += str(str(o)[-1])\n",
    "            carry = int(str(o)[0])\n",
    "        else:\n",
    "            out += str(o)\n",
    "            carry = 0\n",
    "        i -=1\n",
    " \n",
    "    while(j >= 0):\n",
    "        \n",
    "        o = arr2[j]+carry\n",
    "        \n",
    "        if(len(str(o))>1):\n",
    "            out += str(str(o)[-1])\n",
    "            carry = int(str(o)[0])\n",
    "        else:\n",
    "            out += str(o)\n",
    "            carry = 0\n",
    "        \n",
    "        j -= 1\n",
    "            \n",
    "    return int(out[::-1])\n",
    "    \n",
    "sum_arr([1,2,3], [3,9])"
   ]
  },
  {
   "cell_type": "code",
   "execution_count": null,
   "id": "7cdc24e3",
   "metadata": {},
   "outputs": [],
   "source": []
  },
  {
   "cell_type": "code",
   "execution_count": null,
   "id": "60f7ed10",
   "metadata": {},
   "outputs": [],
   "source": []
  }
 ],
 "metadata": {
  "kernelspec": {
   "display_name": "Python 3",
   "language": "python",
   "name": "python3"
  },
  "language_info": {
   "codemirror_mode": {
    "name": "ipython",
    "version": 3
   },
   "file_extension": ".py",
   "mimetype": "text/x-python",
   "name": "python",
   "nbconvert_exporter": "python",
   "pygments_lexer": "ipython3",
   "version": "3.7.4"
  }
 },
 "nbformat": 4,
 "nbformat_minor": 5
}
