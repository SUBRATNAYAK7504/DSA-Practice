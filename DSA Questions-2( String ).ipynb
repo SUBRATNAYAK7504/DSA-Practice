{
 "cells": [
  {
   "cell_type": "markdown",
   "id": "3a18f329",
   "metadata": {},
   "source": [
    "# Return Max occuring character in a string"
   ]
  },
  {
   "cell_type": "code",
   "execution_count": 4,
   "id": "f1ddb7e6",
   "metadata": {},
   "outputs": [
    {
     "name": "stdout",
     "output_type": "stream",
     "text": [
      "Please Enter the string: happi\n",
      "Max occuring character and count is :('p', 2)\n"
     ]
    }
   ],
   "source": [
    "def return_max_char_and_count(input_string):\n",
    "    count_dict = {}\n",
    "    \n",
    "    for i in input_string:\n",
    "        if i not in count_dict: count_dict[i] = 0\n",
    "        count_dict[i] = count_dict[i]+1\n",
    "    \n",
    "    out = max(list(count_dict.items()), key = lambda x: x[1])\n",
    "    return out\n",
    "\n",
    "input_string = input(\"Please Enter the string: \")\n",
    "print(\"Max occuring character and count is :\"+str(return_max_char_and_count(input_string)))"
   ]
  },
  {
   "cell_type": "markdown",
   "id": "2726fb5a",
   "metadata": {},
   "source": [
    "# Reverse list and words without creating any extra list or any extra storage"
   ]
  },
  {
   "cell_type": "code",
   "execution_count": 11,
   "id": "0a3e2d2e",
   "metadata": {},
   "outputs": [
    {
     "name": "stdout",
     "output_type": "stream",
     "text": [
      "['yeknom', 'arbez', 'tac']\n"
     ]
    }
   ],
   "source": [
    "def reverse_list_and_word(word_list):\n",
    "    s = 0\n",
    "    e = len(word_list)-1\n",
    "    \n",
    "    while(s <= e):\n",
    "        temp =  word_list[s][::-1]\n",
    "        word_list[s] = word_list[e][::-1]\n",
    "        word_list[e] = temp\n",
    "        \n",
    "        s+=1\n",
    "        e-=1\n",
    "        \n",
    "    return word_list\n",
    "    \n",
    "word_list = [\"cat\", \"zebra\", \"monkey\"]\n",
    "print(reverse_list_and_word(word_list))"
   ]
  },
  {
   "cell_type": "markdown",
   "id": "e7b7e13d",
   "metadata": {},
   "source": [
    "# Reverse a String with two pointer approach"
   ]
  },
  {
   "cell_type": "code",
   "execution_count": 19,
   "id": "45889ca6",
   "metadata": {},
   "outputs": [
    {
     "name": "stdout",
     "output_type": "stream",
     "text": [
      "Enter the string: hapi\n",
      "ipah\n"
     ]
    }
   ],
   "source": [
    "def reverse_str(input_string):\n",
    "    input_string = list(input_string)\n",
    "    s = 0\n",
    "    e = len(input_string)-1\n",
    "    while(s<=e):\n",
    "        temp = input_string[s]\n",
    "        input_string[s] = input_string[e]\n",
    "        input_string[e] = temp \n",
    "        \n",
    "        s += 1\n",
    "        e -= 1\n",
    "    return \"\".join(input_string)\n",
    "input_string = input(\"Enter the string: \")\n",
    "print(reverse_str(input_string))"
   ]
  },
  {
   "cell_type": "markdown",
   "id": "110c9402",
   "metadata": {},
   "source": [
    "# Palindrome using pointer approach"
   ]
  },
  {
   "cell_type": "code",
   "execution_count": 16,
   "id": "8cf86d4b",
   "metadata": {},
   "outputs": [
    {
     "name": "stdout",
     "output_type": "stream",
     "text": [
      "Enter the string: abba\n",
      "True\n"
     ]
    }
   ],
   "source": [
    "def check_palindrome(input_string):\n",
    "    s = 0\n",
    "    e = len(input_string)-1\n",
    "    while(s<=e):\n",
    "        if input_string[s] != input_string[e]: return False\n",
    "        s += 1\n",
    "        e -= 1\n",
    "    return True\n",
    "input_string = input(\"Enter the string: \")\n",
    "print(check_palindrome(input_string))"
   ]
  },
  {
   "cell_type": "markdown",
   "id": "78188e07",
   "metadata": {},
   "source": [
    "# Remove all substrings ( DO NOT USE replace function)"
   ]
  },
  {
   "cell_type": "code",
   "execution_count": 34,
   "id": "c614f23d",
   "metadata": {},
   "outputs": [
    {
     "name": "stdout",
     "output_type": "stream",
     "text": [
      "Enter the string: abcdefcdcd\n",
      "Enter the substring want to replace: cd\n"
     ]
    },
    {
     "data": {
      "text/plain": [
       "'abef'"
      ]
     },
     "execution_count": 34,
     "metadata": {},
     "output_type": "execute_result"
    }
   ],
   "source": [
    "def replace_sub_str(input_string, substring):\n",
    "    sub_string_counter = 0\n",
    "    \n",
    "    sub_string_index = []\n",
    "    out_index = []\n",
    "    for i in range(len(input_string)):\n",
    "        \n",
    "        if input_string[i] == substring[sub_string_counter]:\n",
    "            sub_string_counter+=1\n",
    "            sub_string_index.append(i)\n",
    "            \n",
    "        elif sub_string_counter != 0:\n",
    "            sub_string_counter = 0\n",
    "            sub_string_index = []\n",
    "        \n",
    "        if sub_string_counter == len(substring):\n",
    "            out_index.extend(sub_string_index)\n",
    "            \n",
    "            sub_string_counter = 0\n",
    "            sub_string_index = []\n",
    "            \n",
    "    input_string = list(input_string)\n",
    "    out_index.sort(reverse = True)\n",
    "    for j in out_index:\n",
    "        del input_string[j]\n",
    "    \n",
    "    return \"\".join(input_string)\n",
    "    \n",
    "\n",
    "input_string = input(\"Enter the string: \")\n",
    "substring = input(\"Enter the substring want to replace: \")\n",
    "replace_sub_str(input_string, substring)"
   ]
  },
  {
   "cell_type": "markdown",
   "id": "7a5d8896",
   "metadata": {},
   "source": [
    "# Remove any permutation of substring from given input\n"
   ]
  },
  {
   "cell_type": "code",
   "execution_count": 20,
   "id": "66dca8e8",
   "metadata": {},
   "outputs": [
    {
     "name": "stdout",
     "output_type": "stream",
     "text": [
      "Enter the string: abefgcdgfettfeg\n",
      "Enter the substring want to replace: efg\n"
     ]
    },
    {
     "data": {
      "text/plain": [
       "'abcdtt'"
      ]
     },
     "execution_count": 20,
     "metadata": {},
     "output_type": "execute_result"
    }
   ],
   "source": [
    "def char_count(substring):\n",
    "    \n",
    "    substring_dict = {}\n",
    "    for i in substring:\n",
    "        if i not in substring_dict: substring_dict[i] = 0\n",
    "        substring_dict[i] += 1\n",
    "    \n",
    "    return substring_dict\n",
    "\n",
    "def compare_two_dict(dict1, dict2):\n",
    "    if(set(dict1.keys()) != set(dict2.keys())): return False\n",
    "    for key in dict1.keys():\n",
    "        if dict1[key] != dict2[key]: return False\n",
    "    return True\n",
    "\n",
    "def replace_sub_str_any_perm(start, input_string, substring_dict, end):\n",
    "    \n",
    "    input_string_char_count_dict = char_count(input_string[start:end+1])\n",
    "   \n",
    "    check = compare_two_dict(input_string_char_count_dict, substring_dict)\n",
    "   \n",
    "    if check:\n",
    "        if end == len(input_string)-1:\n",
    "            return input_string[0:start]\n",
    "        \n",
    "        out_string = input_string[0:start]+input_string[end+1:]\n",
    "        \n",
    "        out = replace_sub_str_any_perm(start, out_string, substring_dict, end)\n",
    "    else:\n",
    "        if end == len(input_string)-1:\n",
    "            return input_string\n",
    "        out_string = input_string\n",
    "        out = replace_sub_str_any_perm(start+1, out_string, substring_dict, end+1)\n",
    "    \n",
    "    return out\n",
    "    \n",
    "\n",
    "input_string = input(\"Enter the string: \")\n",
    "substring = input(\"Enter the substring want to replace: \")\n",
    "substring_dict = char_count(substring)\n",
    "replace_sub_str_any_perm(0, input_string, substring_dict, len(substring)-1)"
   ]
  },
  {
   "cell_type": "markdown",
   "id": "ba647a08",
   "metadata": {},
   "source": [
    "# Remove all adjacent duplicates from string"
   ]
  },
  {
   "cell_type": "code",
   "execution_count": 29,
   "id": "044d2d5c",
   "metadata": {},
   "outputs": [
    {
     "name": "stdout",
     "output_type": "stream",
     "text": [
      "Enter the string: happii\n",
      "ha\n"
     ]
    }
   ],
   "source": [
    "def remove_adjacent_duplicates(input_string):\n",
    "    c = \"\"\n",
    "    out_string = \"\"\n",
    "    \n",
    "    for s in range(len(input_string)):\n",
    "        if(s == len(input_string)-1):\n",
    "            if(c != input_string[s]): out_string+= input_string[s]\n",
    "        else:\n",
    "            if(c != input_string[s]) and  (input_string[s] != input_string[s+1]): \n",
    "                out_string+= input_string[s]\n",
    "        c = input_string[s]\n",
    "    \n",
    "    return out_string\n",
    "\n",
    "input_string = input(\"Enter the string: \")\n",
    "print(remove_adjacent_duplicates(input_string))"
   ]
  },
  {
   "cell_type": "markdown",
   "id": "413ef311",
   "metadata": {},
   "source": [
    "# Create a function which will give permutation of all strings "
   ]
  },
  {
   "cell_type": "code",
   "execution_count": 9,
   "id": "a5926405",
   "metadata": {},
   "outputs": [
    {
     "name": "stdout",
     "output_type": "stream",
     "text": [
      "Enter the string: abc\n",
      "['abc', 'acb', 'bac', 'bca', 'cab', 'cba']\n"
     ]
    }
   ],
   "source": [
    "def get_all_comb(input_string):\n",
    "    if len(input_string) == 0:\n",
    "        return [\"\"]\n",
    "    result = []\n",
    "    \n",
    "    for i in range(len(input_string)):\n",
    "        val = input_string[i]\n",
    "        \n",
    "        remaining_val = input_string[0:i]+input_string[i+1:]\n",
    "        \n",
    "        out_comb = get_all_comb(remaining_val)\n",
    "        \n",
    "        for j in out_comb:\n",
    "            result.append(val+j)\n",
    "    \n",
    "    return result\n",
    "    \n",
    "    \n",
    "input_string = input(\"Enter the string: \")    \n",
    "print(get_all_comb(input_string))"
   ]
  },
  {
   "cell_type": "markdown",
   "id": "51865853",
   "metadata": {},
   "source": [
    "# Reverse a string using recursion"
   ]
  },
  {
   "cell_type": "code",
   "execution_count": 13,
   "id": "070744ee",
   "metadata": {},
   "outputs": [
    {
     "name": "stdout",
     "output_type": "stream",
     "text": [
      "Enter the string: abc\n",
      "cba"
     ]
    }
   ],
   "source": [
    "def reverse(input_string):\n",
    "    if len(input_string) == 0: return\n",
    "    \n",
    "    reverse(input_string[1:])\n",
    "    print(input_string[0], end = \"\")\n",
    "\n",
    "input_string = input(\"Enter the string: \")  \n",
    "reverse(input_string)"
   ]
  },
  {
   "cell_type": "code",
   "execution_count": null,
   "id": "71561e58",
   "metadata": {},
   "outputs": [],
   "source": []
  }
 ],
 "metadata": {
  "kernelspec": {
   "display_name": "Python 3",
   "language": "python",
   "name": "python3"
  },
  "language_info": {
   "codemirror_mode": {
    "name": "ipython",
    "version": 3
   },
   "file_extension": ".py",
   "mimetype": "text/x-python",
   "name": "python",
   "nbconvert_exporter": "python",
   "pygments_lexer": "ipython3",
   "version": "3.7.4"
  }
 },
 "nbformat": 4,
 "nbformat_minor": 5
}
