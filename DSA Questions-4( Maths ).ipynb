{
 "cells": [
  {
   "cell_type": "markdown",
   "id": "4622a95f",
   "metadata": {},
   "source": [
    "# Count Prime numbers"
   ]
  },
  {
   "cell_type": "code",
   "execution_count": 41,
   "id": "db6b290b",
   "metadata": {},
   "outputs": [
    {
     "name": "stdout",
     "output_type": "stream",
     "text": [
      "Enter the number: 15\n",
      "2\n",
      "3\n",
      "5\n",
      "7\n",
      "11\n",
      "13\n",
      "6\n"
     ]
    }
   ],
   "source": [
    "def is_prime(num):\n",
    "    if num == 0 or num == 1:\n",
    "        return False\n",
    "    \n",
    "    for i in range(2, int(math.sqrt(num))+1):\n",
    "        if num%i == 0: return False\n",
    "    \n",
    "    return True\n",
    "\n",
    "#return number of prime number\n",
    "def get_prime_count(x):\n",
    "    \n",
    "    prime_check_list = []\n",
    "    count = 0\n",
    "    \n",
    "    for i in range(x):\n",
    "        if is_prime(i): \n",
    "            print(i)\n",
    "            count+=1\n",
    "    \n",
    "    return count \n",
    "    \n",
    "x = int(input(\"Enter the number: \"))\n",
    "print(get_prime_count(x))"
   ]
  },
  {
   "cell_type": "markdown",
   "id": "b809dea1",
   "metadata": {},
   "source": [
    "# Sieve of Eratosthenes"
   ]
  },
  {
   "cell_type": "code",
   "execution_count": 51,
   "id": "79c2e3e6",
   "metadata": {},
   "outputs": [
    {
     "name": "stdout",
     "output_type": "stream",
     "text": [
      "Enter a number: 8\n",
      "4\n"
     ]
    }
   ],
   "source": [
    "def sieve_of_eratosthenes(x):\n",
    "    if x == 0 or x == 1:\n",
    "        return 0\n",
    "    \n",
    "    check_list = [True for i in range(2, x+1)]\n",
    "    \n",
    "    for i in range(2, x+1):\n",
    "        if check_list[i-2] == False:\n",
    "            continue\n",
    "        \n",
    "        for j in range(i+i, x+1, i):\n",
    "            \n",
    "            check_list[j-2] = False\n",
    "    \n",
    "    print(check_list.count(True))\n",
    "        \n",
    "\n",
    "x = int(input(\"Enter a number: \"))\n",
    "sieve_of_eratosthenes(x)\n",
    "    "
   ]
  }
 ],
 "metadata": {
  "kernelspec": {
   "display_name": "Python 3",
   "language": "python",
   "name": "python3"
  },
  "language_info": {
   "codemirror_mode": {
    "name": "ipython",
    "version": 3
   },
   "file_extension": ".py",
   "mimetype": "text/x-python",
   "name": "python",
   "nbconvert_exporter": "python",
   "pygments_lexer": "ipython3",
   "version": "3.7.4"
  }
 },
 "nbformat": 4,
 "nbformat_minor": 5
}
